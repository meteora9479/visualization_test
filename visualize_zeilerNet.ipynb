{
 "cells": [
  {
   "cell_type": "code",
   "execution_count": 1,
   "metadata": {
    "collapsed": false
   },
   "outputs": [
    {
     "data": {
      "text/plain": [
       "==> Loading network\t\n"
      ]
     },
     "execution_count": 1,
     "metadata": {},
     "output_type": "execute_result"
    },
    {
     "data": {
      "text/plain": [
       "==> Loading synsets\t\n",
       "==> Loading image and imagenet mean\t\n"
      ]
     },
     "execution_count": 1,
     "metadata": {},
     "output_type": "execute_result"
    },
    {
     "data": {
      "text/plain": [
       "==> Preprocessing\t\n"
      ]
     },
     "execution_count": 1,
     "metadata": {},
     "output_type": "execute_result"
    },
    {
     "data": {
      "text/plain": [
       "predicted class 1: \thair spray\t\n",
       "predicted class 2: \tbrassiere, bra, bandeau\t\n",
       "predicted class 3: \twig\t\n",
       "predicted class 4: \tmaillot, tank suit\t\n",
       "predicted class 5: \tmaillot\t\n"
      ]
     },
     "execution_count": 1,
     "metadata": {},
     "output_type": "execute_result"
    }
   ],
   "source": [
    "require 'cudnn'\n",
    "require 'inn'\n",
    "require 'image'\n",
    "\n",
    "-- Loads the mapping from net outputs to human readable labels\n",
    "function load_synset()\n",
    "  local file = io.open 'synset_words.txt'\n",
    "  local list = {}\n",
    "  while true do\n",
    "    local line = file:read()\n",
    "    if not line then break end\n",
    "    table.insert(list, string.sub(line,11))\n",
    "  end\n",
    "  return list\n",
    "end\n",
    "\n",
    "-- Converts an image from RGB to BGR format and subtracts mean\n",
    "function preprocess(im, img_mean)\n",
    "  -- rescale the image\n",
    "  local im3 = image.scale(im,224,224,'bilinear')*255\n",
    "  -- RGB2BGR\n",
    "  local im4 = im3:clone()\n",
    "  im4[{1,{},{}}] = im3[{3,{},{}}]\n",
    "  im4[{3,{},{}}] = im3[{1,{},{}}]\n",
    "\n",
    "  -- subtract imagenet mean\n",
    "  return im4 - image.scale(img_mean, 224, 224, 'bilinear')\n",
    "end\n",
    "\n",
    "-- Setting up networks \n",
    "print '==> Loading network'\n",
    "\n",
    "--net = torch.load('/home/yusheng/Workspace/DeepLearning/models/zeilerNet/zeilerNet.net')\n",
    "net = torch.load('/usr/local/data/zeilerNet/zeilerNet.net')\n",
    "net:cuda()\n",
    "-- as we want to classify, let's disable dropouts by enabling evaluation mode\n",
    "net:evaluate()\n",
    "\n",
    "print '==> Loading synsets'\n",
    "synset_words = load_synset()\n",
    "\n",
    "print '==> Loading image and imagenet mean'\n",
    "--image_name = 'Goldfish3.jpg'\n",
    "image_name = 'lena.jpg'\n",
    "img_mean_name = 'ilsvrc_2012_mean.t7'\n",
    "\n",
    "im = image.load(image_name)\n",
    "img_mean = torch.load(img_mean_name).img_mean:transpose(3,1)\n",
    "\n",
    "-- Have to resize and convert from RGB to BGR and subtract mean\n",
    "print '==> Preprocessing'\n",
    "I = preprocess(im, img_mean)\n",
    "\n",
    "_,classes = net:forward(I:cuda()):view(-1):float():sort(true)\n",
    "\n",
    "for i=1,5 do\n",
    "  print('predicted class '..tostring(i)..': ', synset_words[classes[i] ])\n",
    "end\n",
    "\n"
   ]
  },
  {
   "cell_type": "code",
   "execution_count": 2,
   "metadata": {
    "collapsed": false
   },
   "outputs": [
    {
     "data": {
      "text/plain": [
       "nn.Sequential {\n",
       "  [input -> (1) -> (2) -> (3) -> output]\n",
       "  (1): nn.Sequential {\n",
       "    [input -> (1) -> (2) -> (3) -> (4) -> (5) -> (6) -> (7) -> (8) -> (9) -> (10) -> (11) -> (12) -> (13) -> (14) -> output]\n",
       "    (1): cudnn.SpatialConvolution(3 -> 96, 7x7, 2,2, 1,1)\n",
       "    (2): cudnn.ReLU\n",
       "    (3): inn.SpatialSameResponseNormalization\n",
       "    (4): cudnn.SpatialMaxPooling\n",
       "    (5): cudnn.SpatialConvolution(96 -> 256, 5x5, 2,2)\n",
       "    (6): cudnn.ReLU\n",
       "    (7): inn.SpatialSameResponseNormalization\n",
       "    (8): cudnn.SpatialMaxPooling\n",
       "    (9): cudnn.SpatialConvolution(256 -> 384, 3x3, 1,1, 1,1)\n",
       "    (10): cudnn.ReLU\n",
       "    (11): cudnn.SpatialConvolution(384 -> 384, 3x3, 1,1, 1,1)\n",
       "    (12): cudnn.ReLU\n",
       "    (13): cudnn.SpatialConvolution(384 -> 256, 3x3, 1,1, 1,1)\n",
       "    (14): cudnn.ReLU\n",
       "  }\n",
       "  (2): inn.SpatialPyramidPooling\n",
       "  (3): nn.Sequential {\n",
       "    [input -> (1) -> (2) -> (3) -> (4) -> (5) -> (6) -> (7) -> output]\n",
       "    (1): nn.Linear(12800 -> 4096)\n",
       "    (2): cudnn.ReLU\n",
       "    (3): nn.Dropout(0.500000)\n",
       "    (4): nn.Linear(4096 -> 4096)\n",
       "    (5): cudnn.ReLU\n",
       "    (6): nn.Dropout(0.500000)\n",
       "    (7): nn.Linear(4096 -> 1000)\n",
       "  }\n",
       "}\n",
       "{\n",
       "  gradInput : CudaTensor - empty\n",
       "  modules : \n",
       "    {\n",
       "      1 : \n",
       "        nn.Sequential {\n",
       "          [input -> (1) -> (2) -> (3) -> (4) -> (5) -> (6) -> (7) -> (8) -> (9) -> (10) -> (11) -> (12) -> (13) -> (14) -> output]\n",
       "          (1): cudnn.SpatialConvolution(3 -> 96, 7x7, 2,2, 1,1)\n",
       "          (2): cudnn.ReLU\n",
       "          (3): inn.SpatialSameResponseNormalization\n",
       "          (4): cudnn.SpatialMaxPooling\n",
       "          (5): cudnn.SpatialConvolution(96 -> 256, 5x5, 2,2)\n",
       "          (6): cudnn.ReLU\n",
       "          (7): inn.SpatialSameResponseNormalization\n",
       "          (8): cudnn.SpatialMaxPooling\n",
       "          (9): cudnn.SpatialConvolution(256 -> 384, 3x3, 1,1, 1,1)\n",
       "          (10): cudnn.ReLU\n",
       "          (11): cudnn.SpatialConvolution(384 -> 384, 3x3, 1,1, 1,1)\n",
       "          (12): cudnn.ReLU\n",
       "          (13): cudnn.SpatialConvolution(384 -> 256, 3x3, 1,1, 1,1)\n",
       "          (14): cudnn.ReLU\n",
       "        }\n",
       "        {\n",
       "          gradInput : CudaTensor - empty\n",
       "          modules : \n",
       "            {\n",
       "              1 : \n",
       "                cudnn.SpatialConvolution(3 -> 96, 7x7, 2,2, 1,1)\n",
       "                {\n",
       "        "
      ]
     },
     "execution_count": 2,
     "metadata": {},
     "output_type": "execute_result"
    },
    {
     "data": {
      "text/plain": [
       "          padW : 1\n",
       "                  nInputPlane : 3\n",
       "                  output : CudaTensor - size: 96x110x110\n",
       "                  gradInput : CudaTensor - size: 3x224x224\n",
       "                  iDesc : cdata<struct cudnnTensorStruct *[1]>: 0x41cc3328\n",
       "                  iSize : LongStorage - size: 4\n",
       "                  convDesc : cdata<struct cudnnConvolutionStruct *[1]>: 0x41cc8838\n",
       "                  output_offset : 1161600\n",
       "                  gradBias : CudaTensor - size: 96\n",
       "                  algType : cdata<enum 761 [?]>: 0x407cab38\n",
       "                  extraBuffer : CudaTensor - size: 147\n",
       "                  extraBufferSizeInBytes : 588\n",
       "                  oDescForBias : cdata<struct cudnnTensorStruct *[1]>: 0x407cc908\n",
       "                  oDesc : cdata<struct cudnnTensorStruct *[1]>: 0x40fd21a8\n",
       "                  groups : 1\n",
       "                  dH : 2\n",
       "                  dW : 2\n",
       "                  nOutputPlane : 96\n",
       "                  bias : CudaTensor - size: 96\n",
       "                  kH : 7\n",
       "                  "
      ]
     },
     "execution_count": 2,
     "metadata": {},
     "output_type": "execute_result"
    },
    {
     "data": {
      "text/plain": [
       "weight_offset : 14112\n",
       "                  finput : CudaTensor - empty\n",
       "                  biasDesc : cdata<struct cudnnTensorStruct *[1]>: 0x41746b98\n",
       "                  input_offset : 150528\n",
       "                  weight : CudaTensor - size: 96x3x7x7\n",
       "                  train : false\n",
       "                  gradWeight : CudaTensor - size: 96x3x7x7\n",
       "                  fgradInput : CudaTensor - empty\n",
       "                  kW : 7\n",
       "                  padH : 1\n",
       "                  weightDesc : cdata<struct cudnnFilterStruct *[1]>: 0x40fdd6e8\n",
       "                }\n",
       "              2 : \n",
       "                cudnn.ReLU\n",
       "                {\n",
       "                  inplace : true\n",
       "                  mode : CUDNN_ACTIVATION_RELU\n",
       "                  train : false\n",
       "                  output : CudaTensor - size: 96x110x110\n",
       "        "
      ]
     },
     "execution_count": 2,
     "metadata": {},
     "output_type": "execute_result"
    },
    {
     "data": {
      "text/plain": [
       "          gradInput : CudaTensor - empty\n",
       "                  nElem : 1161600\n",
       "                  iDesc : cdata<struct cudnnTensorStruct *[1]>: 0x41e13448\n",
       "                }\n",
       "              3 : \n",
       "                inn.SpatialSameResponseNormalization\n",
       "                {\n",
       "                  alpha : 5e-05\n",
       "                  train : false\n",
       "                  output : CudaTensor - size: 96x110x110\n",
       "                  gradInput : CudaTensor - empty\n",
       "                  size : 3\n",
       "                  beta : 0.75\n",
       "                  modules : nn.Sequential {\n",
       "  [input -> (1) -> (2) -> output]\n",
       "  (1): nn.ConcatTable {\n",
       "    input\n",
       "      |`-> (1): nn.Identity\n",
       "      |`-> (2): nn.Sequential {\n",
       "      |      [input -> (1) -> (2) -> (3) -> (4) -> (5) -> (6) -> output]\n",
       "      |      (1): nn.SpatialZeroPadding(l=1,r=1,t=1,b=1)\n",
       "      |      (2): nn.Power\n",
       "      |      (3): nn.SpatialAveragePooling(3,3,1,1)\n",
       "      |      (4): nn.MulConstant\n",
       "      |      (5): nn.AddConstant\n",
       "      |      (6): nn.Power\n",
       "      |    }\n",
       "       ... -> output\n",
       "  }\n",
       "  (2): nn.CDivTable\n",
       "}\n",
       "                }\n",
       "              4 : \n",
       "                cudnn.SpatialMaxPooling\n",
       "                {\n",
       "                  dH : 2\n",
       "                  dW : 2\n",
       "                  padH : 0\n",
       "      "
      ]
     },
     "execution_count": 2,
     "metadata": {},
     "output_type": "execute_result"
    },
    {
     "data": {
      "text/plain": [
       "            gradInput : CudaTensor - size: 96x110x110\n",
       "                  oDesc : cdata<struct cudnnTensorStruct *[1]>: 0x41ef02e8\n",
       "                  iSize : LongStorage - size: 4\n",
       "                  iDesc : cdata<struct cudnnTensorStruct *[1]>: 0x417472a0\n",
       "                  poolDesc : cdata<struct cudnnPoolingStruct *[1]>: 0x41dfe3e8\n",
       "                  mode : CUDNN_POOLING_MAX\n",
       "                  train : false\n",
       "                  kW : 3\n",
       "                  ceil_mode : true\n",
       "                  padW : 0\n",
       "                  output : CudaTensor - size: 96x55x55\n",
       "                  kH : 3\n",
       "                }\n",
       "              5 : \n",
       "                cudnn.SpatialConvolution(96 -> 256, 5x5, 2,2)\n",
       "                {\n",
       "                  padW : 0\n",
       "                  nInputPlane : 96\n",
       "                  output : CudaTensor - size: 256x26x26\n",
       "                  gradInput : CudaTensor - size: 96x55x55\n",
       "                  iDesc : cdata<struct cudnnTensorStruct *[1]>: 0x402168f8\n",
       "          "
      ]
     },
     "execution_count": 2,
     "metadata": {},
     "output_type": "execute_result"
    },
    {
     "data": {
      "text/plain": [
       "        iSize : LongStorage - size: 4\n",
       "                  convDesc : cdata<struct cudnnConvolutionStruct *[1]>: 0x41d4ae00\n",
       "                  output_offset : 173056\n",
       "                  gradBias : CudaTensor - size: 256\n",
       "                  algType : cdata<enum 761 [?]>: 0x41efb010\n",
       "                  extraBuffer : CudaTensor - size: 2400\n",
       "                  extraBufferSizeInBytes : 9600\n",
       "                  oDescForBias : cdata<struct cudnnTensorStruct *[1]>: 0x4174b998\n",
       "                  oDesc : cdata<struct cudnnTensorStruct *[1]>: 0x4174d3b0\n",
       "                  groups : 1\n",
       "                  dH : 2\n",
       "                  dW : 2\n",
       "                  nOutputPlane : 256\n",
       "                  bias : CudaTensor - size: 256\n",
       "                  kH : 5\n",
       "                  weight_offset : 614400\n",
       "                  finput : CudaTensor - empty\n",
       "                  biasDesc : cdata<struct cudnnTensorStruct *[1]>: 0x41f043c0\n",
       "                  input_offset : 290400\n",
       "                  weight : CudaTensor - size: 256x96x5x5\n",
       "                  train : false\n"
      ]
     },
     "execution_count": 2,
     "metadata": {},
     "output_type": "execute_result"
    },
    {
     "data": {
      "text/plain": [
       "                  gradWeight : CudaTensor - size: 256x96x5x5\n",
       "                  fgradInput : CudaTensor - empty\n",
       "                  kW : 5\n",
       "                  padH : 0\n",
       "                  weightDesc : cdata<struct cudnnFilterStruct *[1]>: 0x4175b678\n",
       "                }\n",
       "              6 : \n",
       "                cudnn.ReLU\n",
       "                {\n",
       "                  inplace : true\n",
       "                  mode : CUDNN_ACTIVATION_RELU\n",
       "                  train : false\n",
       "                  output : CudaTensor - size: 256x26x26\n",
       "                  gradInput : CudaTensor - empty\n",
       "                  nElem : 173056\n",
       "                  iDesc : cdata<struct cudnnTensorStruct *[1]>: 0x407fe8c8\n",
       "                }\n",
       "              7 : \n",
       "                inn.SpatialSameResponseNormalization\n",
       "                {\n",
       "                  alpha : 5e-05\n",
       "                  train : false\n",
       "                  output : CudaTensor - size: 256x26x26\n",
       "                  gradInput : CudaTensor - empty"
      ]
     },
     "execution_count": 2,
     "metadata": {},
     "output_type": "execute_result"
    },
    {
     "data": {
      "text/plain": [
       "\n",
       "                  size : 3\n",
       "                  beta : 0.75\n",
       "                  modules : nn.Sequential {\n",
       "  [input -> (1) -> (2) -> output]\n",
       "  (1): nn.ConcatTable {\n",
       "    input\n",
       "      |`-> (1): nn.Identity\n",
       "      |`-> (2): nn.Sequential {\n",
       "      |      [input -> (1) -> (2) -> (3) -> (4) -> (5) -> (6) -> output]\n",
       "      |      (1): nn.SpatialZeroPadding(l=1,r=1,t=1,b=1)\n",
       "      |      (2): nn.Power\n",
       "      |      (3): nn.SpatialAveragePooling(3,3,1,1)\n",
       "      |      (4): nn.MulConstant\n",
       "      |      (5): nn.AddConstant\n",
       "      |      (6): nn.Power\n",
       "      |    }\n",
       "       ... -> output\n",
       "  }\n",
       "  (2): nn.CDivTable\n",
       "}\n",
       "                }\n",
       "              8 : \n",
       "                cudnn.SpatialMaxPooling\n",
       "                {\n",
       "                  dH : 2\n",
       "                  dW : 2\n",
       "                  padH : 0\n",
       "                  gradInput : CudaTensor - size: 256x26x26\n",
       "                  oDesc : cdata<struct cudnnTensorStruct *[1]>: 0x415d10a8\n",
       "                  iSize : LongStorage - size: 4\n",
       "                  iDesc : cdata<struct cudnnTensorStruct *[1]>: 0x41ef7070\n",
       "                  poolDesc : cdata<struct cudnnPoolingStruct *[1]>: 0x40810798\n",
       "                  mode : CUDNN_POOLING_MAX\n",
       "                  train : false\n",
       "                  kW : 3\n",
       "                  ceil_mode : true\n"
      ]
     },
     "execution_count": 2,
     "metadata": {},
     "output_type": "execute_result"
    },
    {
     "data": {
      "text/plain": [
       "                  padW : 0\n",
       "                  output : CudaTensor - size: 256x13x13\n",
       "                  kH : 3\n",
       "                }\n",
       "              9 : \n",
       "                cudnn.SpatialConvolution(256 -> 384, 3x3, 1,1, 1,1)\n",
       "                {\n",
       "                  padW : 1\n",
       "                  nInputPlane : 256\n",
       "                  output : CudaTensor - size: 384x13x13\n",
       "                  gradInput : CudaTensor - size: 256x13x13\n",
       "                  iDesc : cdata<struct cudnnTensorStruct *[1]>: 0x408e5bf8\n",
       "                  iSize : LongStorage - size: 4\n",
       "                  convDesc : cdata<struct cudnnConvolutionStruct *[1]>: 0x408116d8\n",
       "                  output_offset : 64896\n",
       "                  gradBias : CudaTensor - size: 384\n",
       "                  algType : cdata<enum 761 [?]>: 0x417512f0\n",
       "                  extraBuffer : CudaTensor - size: 2304\n",
       "                  extraBufferSizeInBytes : 9216\n",
       "                  oDescForBias : cdata<struct cudnnTensorStruct *[1]>: 0x4174eb50\n"
      ]
     },
     "execution_count": 2,
     "metadata": {},
     "output_type": "execute_result"
    },
    {
     "data": {
      "text/plain": [
       "                  oDesc : cdata<struct cudnnTensorStruct *[1]>: 0x41746550\n",
       "                  groups : 1\n",
       "                  dH : 1\n",
       "                  dW : 1\n",
       "                  nOutputPlane : 384\n",
       "                  bias : CudaTensor - size: 384\n",
       "                  kH : 3\n",
       "                  weight_offset : 884736\n",
       "                  finput : CudaTensor - empty\n",
       "                  biasDesc : cdata<struct cudnnTensorStruct *[1]>: 0x41d3d818\n",
       "                  input_offset : 43264\n",
       "                  weight : CudaTensor - size: 384x256x3x3\n",
       "                  train : false\n",
       "                  gradWeight : CudaTensor - size: 384x256x3x3\n",
       "                  fgradInput : CudaTensor - empty\n",
       "                  kW : 3\n",
       "                  padH : 1\n",
       "                  weightDesc : cdata<struct cudnnFilterStruct *[1]>: 0x40d5af10\n",
       "                }\n",
       "              10 : \n",
       "         "
      ]
     },
     "execution_count": 2,
     "metadata": {},
     "output_type": "execute_result"
    },
    {
     "data": {
      "text/plain": [
       "       cudnn.ReLU\n",
       "                {\n",
       "                  inplace : true\n",
       "                  mode : CUDNN_ACTIVATION_RELU\n",
       "                  train : false\n",
       "                  output : CudaTensor - size: 384x13x13\n",
       "                  gradInput : CudaTensor - empty\n",
       "                  nElem : 64896\n",
       "                  iDesc : cdata<struct cudnnTensorStruct *[1]>: 0x41eeba60\n",
       "                }\n",
       "              11 : \n",
       "                cudnn.SpatialConvolution(384 -> 384, 3x3, 1,1, 1,1)\n",
       "                {\n",
       "                  padW : 1\n",
       "                  nInputPlane : 384\n",
       "                  output : CudaTensor - size: 384x13x13\n",
       "                  gradInput : CudaTensor - size: 384x13x13\n",
       "                  iDesc : cdata<struct cudnnTensorStruct *[1]>: 0x41cc8328\n",
       "              "
      ]
     },
     "execution_count": 2,
     "metadata": {},
     "output_type": "execute_result"
    },
    {
     "data": {
      "text/plain": [
       "    iSize : LongStorage - size: 4\n",
       "                  convDesc : cdata<struct cudnnConvolutionStruct *[1]>: 0x40fda8b8\n",
       "                  output_offset : 64896\n",
       "                  gradBias : CudaTensor - size: 384\n",
       "                  algType : cdata<enum 761 [?]>: 0x41dfafb0\n",
       "                  extraBuffer : CudaTensor - size: 3456\n",
       "                  extraBufferSizeInBytes : 13824\n",
       "                  oDescForBias : cdata<struct cudnnTensorStruct *[1]>: 0x4040a460\n",
       "                  oDesc : cdata<struct cudnnTensorStruct *[1]>: 0x407bf8b8\n",
       "                  groups : 1\n",
       "                  dH : 1\n",
       "                  dW : 1\n",
       "                  nOutputPlane : 384\n",
       "                  bias : CudaTensor - size: 384\n",
       "                  kH : 3\n",
       "                  weight_offset : 1327104\n",
       "                  finput : CudaTensor - empty\n",
       "                  biasDesc : cdata<struct cudnnTensorStruct *[1]>: 0x40922c58\n",
       "                  input_offset : 64896\n",
       "                  weight : CudaTensor - size: 384x384x3x3\n",
       "   "
      ]
     },
     "execution_count": 2,
     "metadata": {},
     "output_type": "execute_result"
    },
    {
     "data": {
      "text/plain": [
       "               train : false\n",
       "                  gradWeight : CudaTensor - size: 384x384x3x3\n",
       "                  fgradInput : CudaTensor - empty\n",
       "                  kW : 3\n",
       "                  padH : 1\n",
       "                  weightDesc : cdata<struct cudnnFilterStruct *[1]>: 0x41df5a70\n",
       "                }\n",
       "              12 : \n",
       "                cudnn.ReLU\n",
       "                {\n",
       "                  inplace : true\n",
       "                  mode : CUDNN_ACTIVATION_RELU\n",
       "                  train : false\n",
       "                  output : CudaTensor - size: 384x13x13\n",
       "                  gradInput : CudaTensor - empty\n",
       "                  nElem : 64896\n",
       "                  iDesc : cdata<struct cudnnTensorStruct *[1]>: 0x407ff368\n",
       "                }\n",
       "              13 : \n",
       "                cudnn.SpatialConvolution(384 -> 256, 3x3, 1,1, 1,1)\n",
       "                {\n",
       "                  "
      ]
     },
     "execution_count": 2,
     "metadata": {},
     "output_type": "execute_result"
    },
    {
     "data": {
      "text/plain": [
       "padW : 1\n",
       "                  nInputPlane : 384\n",
       "                  output : CudaTensor - size: 256x13x13\n",
       "                  gradInput : CudaTensor - size: 384x13x13\n",
       "                  iDesc : cdata<struct cudnnTensorStruct *[1]>: 0x40803cc0\n",
       "                  iSize : LongStorage - size: 4\n",
       "                  convDesc : cdata<struct cudnnConvolutionStruct *[1]>: 0x41ef9318\n",
       "                  output_offset : 43264\n",
       "                  gradBias : CudaTensor - size: 256\n",
       "                  algType : cdata<enum 761 [?]>: 0x4040c2b8\n",
       "                  extraBuffer : CudaTensor - size: 3456\n",
       "                  extraBufferSizeInBytes : 13824\n",
       "                  oDescForBias : cdata<struct cudnnTensorStruct *[1]>: 0x41cc7988\n",
       "                  oDesc : cdata<struct cudnnTensorStruct *[1]>: 0x40ed67f0\n",
       "                  groups : 1\n",
       "                  dH : 1\n",
       "                  dW : 1\n",
       "                  nOutputPlane : 256\n",
       "                  bias : CudaTensor - size: 256\n",
       "                  kH : 3\n",
       "                  weight_offset : 884736\n",
       "                  finput : CudaTensor - empty\n",
       "        "
      ]
     },
     "execution_count": 2,
     "metadata": {},
     "output_type": "execute_result"
    },
    {
     "data": {
      "text/plain": [
       "          biasDesc : cdata<struct cudnnTensorStruct *[1]>: 0x41e11960\n",
       "                  input_offset : 64896\n",
       "                  weight : CudaTensor - size: 256x384x3x3\n",
       "                  train : false\n",
       "                  gradWeight : CudaTensor - size: 256x384x3x3\n",
       "                  fgradInput : CudaTensor - empty\n",
       "                  kW : 3\n",
       "                  padH : 1\n",
       "                  weightDesc : cdata<struct cudnnFilterStruct *[1]>: 0x41e13a70\n",
       "                }\n",
       "              14 : \n",
       "                cudnn.ReLU\n",
       "                {\n",
       "                  inplace : true\n",
       "                  mode : CUDNN_ACTIVATION_RELU\n",
       "                  train : false\n",
       "                  output : CudaTensor - size: 256x13x13\n",
       "                  gradInput : CudaTensor - empty\n",
       "                  nElem : 43264\n",
       "                  iDesc : cdata<struct cudnnTensorStruct *[1]>: 0x40fe2250\n",
       "                }\n",
       "            }\n",
       "          train : false\n",
       "          output : CudaTensor - size: 256x13x13\n",
       "        }\n"
      ]
     },
     "execution_count": 2,
     "metadata": {},
     "output_type": "execute_result"
    },
    {
     "data": {
      "text/plain": [
       "      2 : \n",
       "        inn.SpatialPyramidPooling\n",
       "        {\n",
       "          pyr : \n",
       "            {\n",
       "              1 : \n",
       "                {\n",
       "                  1 : 1\n",
       "                  2 : 1\n",
       "                }\n",
       "              2 : \n",
       "                {\n",
       "                  1 : 2\n",
       "                  2 : 2\n",
       "                }\n",
       "              3 : \n",
       "                {\n",
       "                  1 : 3\n",
       "                  2 : 3\n",
       "                }\n",
       "              4 : \n",
       "                {\n",
       "                  1 : 6\n",
       "                  2 : 6\n",
       "                }\n",
       "            }\n",
       "          train : false\n"
      ]
     },
     "execution_count": 2,
     "metadata": {},
     "output_type": "execute_result"
    },
    {
     "data": {
      "text/plain": [
       "          output : CudaTensor - size: 12800\n",
       "          gradInput : CudaTensor - empty\n",
       "          module : \n",
       "            nn.Concat {\n",
       "              input\n",
       "                |`-> (1): nn.Sequential {\n",
       "                |      [input -> (1) -> (2) -> output]\n",
       "                |      (1): nn.SpatialAdaptiveMaxPooling\n",
       "                |      (2): nn.View\n",
       "                |    }\n",
       "                |`-> (2): nn.Sequential {\n",
       "                |      [input -> (1) -> (2) -> output]\n",
       "                |      (1): nn.SpatialAdaptiveMaxPooling\n",
       "                |      (2): nn.View\n",
       "                |    }\n",
       "                |`-> (3): nn.Sequential {\n",
       "                |      [input -> (1) -> (2) -> output]\n",
       "                |      (1): nn.SpatialAdaptiveMaxPooling\n",
       "                |      (2): nn.View\n",
       "                |    }\n",
       "                |`-> (4): nn.Sequential {\n",
       "                |      [input -> (1) -> (2) -> output]\n",
       "                |      (1): nn.SpatialAdaptiveMaxPooling\n",
       "                |      (2): nn.View\n",
       "                |    }\n",
       "                 ... -> output\n",
       "            }\n",
       "            {\n",
       "              output : CudaTensor - size: 12800\n",
       "              gradInput : CudaTensor - empty\n",
       "              modules : \n",
       "                {\n",
       "                  1 : nn.Sequential {\n",
       "  [input -> (1) -> (2) -> output]\n",
       "  (1): nn.SpatialAdaptiveMaxPooling\n",
       "  (2): nn.View\n",
       "}\n",
       "                  2 : nn.Sequential {\n",
       "  [input -> (1) -> (2) -> output]\n",
       "  (1): nn.SpatialAdaptiveMaxPooling\n",
       "  (2): nn.View\n",
       "}\n",
       "                  3 : nn.Sequential {\n",
       "  [input -> (1) -> (2) -> output]\n",
       "  (1): nn.SpatialAdaptiveMaxPooling\n",
       "  (2): nn.View\n",
       "}\n",
       "                  4 : nn.Sequential {\n",
       "  [input -> (1) -> (2) -> output]\n",
       "  (1): nn.SpatialAdaptiveMaxPooling\n",
       "  (2): nn.View\n",
       "}\n",
       "                }\n",
       "              size : LongStorage - size: 1\n",
       "              dimension : 1\n",
       "            }\n",
       "          dimd : 1\n",
       "        }\n",
       "      3 : \n"
      ]
     },
     "execution_count": 2,
     "metadata": {},
     "output_type": "execute_result"
    },
    {
     "data": {
      "text/plain": [
       "        nn.Sequential {\n",
       "          [input -> (1) -> (2) -> (3) -> (4) -> (5) -> (6) -> (7) -> output]\n",
       "          (1): nn.Linear(12800 -> 4096)\n",
       "          (2): cudnn.ReLU\n",
       "          (3): nn.Dropout(0.500000)\n",
       "          (4): nn.Linear(4096 -> 4096)\n",
       "          (5): cudnn.ReLU\n",
       "          (6): nn.Dropout(0.500000)\n",
       "          (7): nn.Linear(4096 -> 1000)\n",
       "        }\n",
       "        {\n",
       "          gradInput : CudaTensor - empty\n",
       "          modules : \n",
       "            {\n",
       "              1 : \n",
       "                nn.Linear(12800 -> 4096)\n",
       "                {\n",
       "                  gradBias : CudaTensor - size: 4096\n",
       "                  weight : CudaTensor - size: 4096x12800\n",
       "                  train : false\n",
       "                  bias : CudaTensor - size: 4096\n",
       "                  gradInput : CudaTensor - empty\n",
       "                  output : CudaTensor - size: 4096\n",
       "                  gradWeight : CudaTensor - size: 4096x12800\n",
       "                }\n",
       "              2 : \n",
       "                cudnn.ReLU\n",
       "                {\n",
       "                  inplace : true\n",
       "                  mode : CUDNN_ACTIVATION_RELU\n",
       "                  train : false\n",
       "                 "
      ]
     },
     "execution_count": 2,
     "metadata": {},
     "output_type": "execute_result"
    },
    {
     "data": {
      "text/plain": [
       " output : CudaTensor - size: 4096\n",
       "                  gradInput : CudaTensor - empty\n",
       "                  nElem : 4096\n",
       "                  iDesc : cdata<struct cudnnTensorStruct *[1]>: 0x411101a0\n",
       "                }\n",
       "              3 : \n",
       "                nn.Dropout(0.500000)\n",
       "                {\n",
       "                  v2 : false\n",
       "                  noise : CudaTensor - empty\n",
       "                  train : false\n",
       "                  p : 0.5\n",
       "                  gradInput : CudaTensor - empty\n",
       "                  output : CudaTensor - size: 4096\n",
       "                }\n",
       "              4 : \n",
       "                nn.Linear(4096 -> 4096)\n",
       "                {\n",
       "                  gradBias : CudaTensor - size: 4096\n",
       "                  weight : CudaTensor - size: 4096x4096\n",
       "                  train : false\n",
       "            "
      ]
     },
     "execution_count": 2,
     "metadata": {},
     "output_type": "execute_result"
    },
    {
     "data": {
      "text/plain": [
       "      bias : CudaTensor - size: 4096\n",
       "                  gradInput : CudaTensor - empty\n",
       "                  output : CudaTensor - size: 4096\n",
       "                  gradWeight : CudaTensor - size: 4096x4096\n",
       "                }\n",
       "              5 : \n",
       "                cudnn.ReLU\n",
       "                {\n",
       "                  inplace : true\n",
       "                  mode : CUDNN_ACTIVATION_RELU\n",
       "                  train : false\n",
       "                  output : CudaTensor - size: 4096\n",
       "                  gradInput : CudaTensor - empty\n",
       "                  nElem : 4096\n",
       "                  iDesc : cdata<struct cudnnTensorStruct *[1]>: 0x41cb9ee0\n",
       "                }\n",
       "              6 : \n",
       "                nn.Dropout(0.500000)\n",
       "                {\n",
       "                  v2 : false\n",
       "                  noise : CudaTensor - empty\n",
       "              "
      ]
     },
     "execution_count": 2,
     "metadata": {},
     "output_type": "execute_result"
    },
    {
     "data": {
      "text/plain": [
       "    train : false\n",
       "                  p : 0.5\n",
       "                  gradInput : CudaTensor - empty\n",
       "                  output : CudaTensor - size: 4096\n",
       "                }\n",
       "              7 : \n",
       "                nn.Linear(4096 -> 1000)\n",
       "                {\n",
       "                  gradBias : CudaTensor - size: 1000\n",
       "                  weight : CudaTensor - size: 1000x4096\n",
       "                  train : false\n",
       "                  bias : CudaTensor - size: 1000\n",
       "                  gradInput : CudaTensor - empty\n",
       "                  output : CudaTensor - size: 1000\n",
       "                  gradWeight : CudaTensor - size: 1000x4096\n",
       "                }\n",
       "            }\n",
       "          train : false\n",
       "          output : CudaTensor - size: 1000\n",
       "        }\n",
       "    }\n",
       "  train : false\n",
       "  output : CudaTensor - size: 1000\n",
       "}\n"
      ]
     },
     "execution_count": 2,
     "metadata": {},
     "output_type": "execute_result"
    }
   ],
   "source": [
    "print(net)"
   ]
  },
  {
   "cell_type": "code",
   "execution_count": 3,
   "metadata": {
    "collapsed": false,
    "scrolled": false
   },
   "outputs": [
    {
     "data": {
      "text/plain": [
       "\n",
       " 256\n",
       "  13\n",
       "  13\n",
       "[torch.LongStorage of size 3]\n",
       "\n"
      ]
     },
     "execution_count": 3,
     "metadata": {},
     "output_type": "execute_result"
    },
    {
     "data": {
      "text/plain": [
       "\n",
       "  1\n",
       " 13\n",
       " 13\n",
       "[torch.LongStorage of size 3]\n",
       "\n"
      ]
     },
     "execution_count": 3,
     "metadata": {},
     "output_type": "execute_result"
    },
    {
     "data": {
      "text/plain": [
       "\n",
       "   1\n",
       " 384\n",
       "  13\n",
       "  13\n",
       "[torch.LongStorage of size 4]\n",
       "\n",
       "==> Time elapsed: 0.085442066192627 seconds\t\n"
      ]
     },
     "execution_count": 3,
     "metadata": {},
     "output_type": "execute_result"
    }
   ],
   "source": [
    "require 'modules/SpatialDeconvolution'\n",
    "require 'modules/SpatialUnPooling'\n",
    "\n",
    "conv5_fm = net:get(1):get(13).output\n",
    "print(conv5_fm:size())\n",
    "timer = torch.Timer()\n",
    "deconv5 = cudnn.SpatialDeconvolution( net:get(1):get(13), net:get(1):get(11).output:size(2), false )\n",
    "print(conv5_fm[{{151},{},{}}]:size())\n",
    "conv4_fm_c5_151 = deconv5:forward(conv5_fm[{{151},{},{}}])\n",
    "print(conv4_fm_c5_151:size())\n",
    "print('==> Time elapsed: ' .. timer:time().real .. ' seconds')\n",
    "--print(conv4_fm:size())"
   ]
  },
  {
   "cell_type": "code",
   "execution_count": 4,
   "metadata": {
    "collapsed": false
   },
   "outputs": [
    {
     "data": {
      "text/plain": [
       "\n",
       "   1\n",
       " 384\n",
       "  13\n",
       "  13\n",
       "[torch.LongStorage of size 4]\n",
       "\n",
       "==> Time elapsed: 0.090058088302612 seconds\t\n"
      ]
     },
     "execution_count": 4,
     "metadata": {},
     "output_type": "execute_result"
    }
   ],
   "source": [
    "timer = torch.Timer()\n",
    "deconv4 = cudnn.SpatialDeconvolution( net:get(1):get(11), net:get(1):get(9).output:size(2), false )\n",
    "conv3_fm_c5_151 = deconv4:forward(conv4_fm_c5_151[1])\n",
    "print(conv3_fm_c5_151:size())\n",
    "print('==> Time elapsed: ' .. timer:time().real .. ' seconds')\n"
   ]
  },
  {
   "cell_type": "code",
   "execution_count": 5,
   "metadata": {
    "collapsed": false
   },
   "outputs": [
    {
     "data": {
      "text/plain": [
       "\n",
       "   1\n",
       " 256\n",
       "  13\n",
       "  13\n",
       "[torch.LongStorage of size 4]\n",
       "\n",
       "==> Time elapsed: 0.063817977905273 seconds\t\n"
      ]
     },
     "execution_count": 5,
     "metadata": {},
     "output_type": "execute_result"
    }
   ],
   "source": [
    "timer = torch.Timer()\n",
    "deconv3 = cudnn.SpatialDeconvolution( net:get(1):get(9), net:get(1):get(8).output:size(2), false )\n",
    "pool2_fm_c5_151 = deconv3:forward(conv3_fm_c5_151[1])\n",
    "print(pool2_fm_c5_151:size())\n",
    "print('==> Time elapsed: ' .. timer:time().real .. ' seconds')"
   ]
  },
  {
   "cell_type": "code",
   "execution_count": 6,
   "metadata": {
    "collapsed": false
   },
   "outputs": [
    {
     "data": {
      "text/plain": [
       "\n",
       " 256\n",
       "  26\n",
       "  26\n",
       "[torch.LongStorage of size 3]\n",
       "\n",
       "==> Time elapsed: 1.1484801769257 seconds\t\n"
      ]
     },
     "execution_count": 6,
     "metadata": {},
     "output_type": "execute_result"
    }
   ],
   "source": [
    "timer = torch.Timer()\n",
    "unpool2 = cudnn.SpatialUnPooling(net:get(1):get(8), net:get(1):get(7).output )\n",
    "conv2_fm_c5_151 = unpool2:forward(pool2_fm_c5_151[1])\n",
    "print(conv2_fm_c5_151:size())\n",
    "print('==> Time elapsed: ' .. timer:time().real .. ' seconds')"
   ]
  },
  {
   "cell_type": "code",
   "execution_count": 7,
   "metadata": {
    "collapsed": false
   },
   "outputs": [
    {
     "data": {
      "text/plain": [
       "\n",
       "  1\n",
       " 96\n",
       " 55\n",
       " 55\n",
       "[torch.LongStorage of size 4]\n",
       "\n",
       "==> Time elapsed: 0.033735990524292 seconds\t\n"
      ]
     },
     "execution_count": 7,
     "metadata": {},
     "output_type": "execute_result"
    }
   ],
   "source": [
    "timer = torch.Timer()\n",
    "deconv2 = cudnn.SpatialDeconvolution( net:get(1):get(5), net:get(1):get(4).output:size(2), false )\n",
    "pool1_fm_c5_151 = deconv2:forward(conv2_fm_c5_151)\n",
    "print(pool1_fm_c5_151:size())\n",
    "print('==> Time elapsed: ' .. timer:time().real .. ' seconds')"
   ]
  },
  {
   "cell_type": "code",
   "execution_count": 8,
   "metadata": {
    "collapsed": false
   },
   "outputs": [
    {
     "data": {
      "text/plain": [
       "\n",
       "  96\n",
       " 110\n",
       " 110\n",
       "[torch.LongStorage of size 3]\n",
       "\n",
       "==> Time elapsed: 7.2568759918213 seconds\t\n"
      ]
     },
     "execution_count": 8,
     "metadata": {},
     "output_type": "execute_result"
    }
   ],
   "source": [
    "timer = torch.Timer()\n",
    "unpool1 = cudnn.SpatialUnPooling(net:get(1):get(4), net:get(1):get(3).output )\n",
    "conv1_fm_c5_151 = unpool1:forward(pool1_fm_c5_151[1])\n",
    "print(conv1_fm_c5_151:size())\n",
    "print('==> Time elapsed: ' .. timer:time().real .. ' seconds')"
   ]
  },
  {
   "cell_type": "code",
   "execution_count": 9,
   "metadata": {
    "collapsed": false
   },
   "outputs": [
    {
     "data": {
      "text/plain": [
       "\n",
       "   1\n",
       "   3\n",
       " 224\n",
       " 224\n",
       "[torch.LongStorage of size 4]\n",
       "\n",
       "==> Time elapsed: 0.10756397247314 seconds\t\n"
      ]
     },
     "execution_count": 9,
     "metadata": {},
     "output_type": "execute_result"
    }
   ],
   "source": [
    "timer = torch.Timer()\n",
    "deconv1 = cudnn.SpatialDeconvolution( net:get(1):get(1), I:size(2), false )\n",
    "visualization_c5_151 = deconv1:forward(conv1_fm_c5_151)\n",
    "print(visualization_c5_151:size())\n",
    "print('==> Time elapsed: ' .. timer:time().real .. ' seconds')"
   ]
  },
  {
   "cell_type": "code",
   "execution_count": 10,
   "metadata": {
    "collapsed": false
   },
   "outputs": [
    {
     "data": {
      "image/png": "[encoded data removed]",
      "text/plain": [
       "Console does not support images"
      ]
     },
     "metadata": {
      "image/png": {
       "height": 224,
       "width": 224
      }
     },
     "output_type": "display_data"
    },
    {
     "data": {
      "text/plain": [
       "\n"
      ]
     },
     "execution_count": 10,
     "metadata": {},
     "output_type": "execute_result"
    }
   ],
   "source": [
    "itorch.image(visualization_c5_151[1])"
   ]
  },
  {
   "cell_type": "code",
   "execution_count": 11,
   "metadata": {
    "collapsed": false
   },
   "outputs": [
    {
     "data": {
      "image/png": "[encoded data removed]",
      "text/plain": [
       "Console does not support images"
      ]
     },
     "metadata": {
      "image/png": {
       "height": 224,
       "width": 224
      }
     },
     "output_type": "display_data"
    },
    {
     "data": {
      "text/plain": [
       "\n"
      ]
     },
     "execution_count": 11,
     "metadata": {},
     "output_type": "execute_result"
    }
   ],
   "source": [
    "itorch.image(I)"
   ]
  },
  {
   "cell_type": "code",
   "execution_count": null,
   "metadata": {
    "collapsed": true
   },
   "outputs": [],
   "source": []
  }
 ],
 "metadata": {
  "kernelspec": {
   "display_name": "iTorch",
   "language": "lua",
   "name": "itorch"
  },
  "language_info": {
   "name": "lua",
   "version": "20100"
  }
 },
 "nbformat": 4,
 "nbformat_minor": 0
}
