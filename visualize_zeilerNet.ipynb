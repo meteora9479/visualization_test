{
 "cells": [
  {
   "cell_type": "code",
   "execution_count": 15,
   "metadata": {
    "collapsed": false
   },
   "outputs": [
    {
     "data": {
      "text/plain": [
       "==> Loading network\t\n"
      ]
     },
     "execution_count": 15,
     "metadata": {},
     "output_type": "execute_result"
    },
    {
     "data": {
      "text/plain": [
       "==> Loading synsets\t\n"
      ]
     },
     "execution_count": 15,
     "metadata": {},
     "output_type": "execute_result"
    },
    {
     "data": {
      "text/plain": [
       "==> Loading image and imagenet mean\t\n"
      ]
     },
     "execution_count": 15,
     "metadata": {},
     "output_type": "execute_result"
    },
    {
     "data": {
      "text/plain": [
       "==> Preprocessing\t\n"
      ]
     },
     "execution_count": 15,
     "metadata": {},
     "output_type": "execute_result"
    },
    {
     "data": {
      "text/plain": [
       "predicted class 1: \thair spray\t\n",
       "predicted class 2: \tbrassiere, bra, bandeau\t\n",
       "predicted class 3: \twig\t\n",
       "predicted class 4: \tmaillot, tank suit\t\n"
      ]
     },
     "execution_count": 15,
     "metadata": {},
     "output_type": "execute_result"
    },
    {
     "data": {
      "text/plain": [
       "predicted class 5: \tmaillot\t\n"
      ]
     },
     "execution_count": 15,
     "metadata": {},
     "output_type": "execute_result"
    }
   ],
   "source": [
    "require 'cudnn'\n",
    "require 'inn'\n",
    "require 'image'\n",
    "\n",
    "-- Loads the mapping from net outputs to human readable labels\n",
    "function load_synset()\n",
    "  local file = io.open 'synset_words.txt'\n",
    "  local list = {}\n",
    "  while true do\n",
    "    local line = file:read()\n",
    "    if not line then break end\n",
    "    table.insert(list, string.sub(line,11))\n",
    "  end\n",
    "  return list\n",
    "end\n",
    "\n",
    "-- Converts an image from RGB to BGR format and subtracts mean\n",
    "function preprocess(im, img_mean)\n",
    "  -- rescale the image\n",
    "  local im3 = image.scale(im,224,224,'bilinear')*255\n",
    "  -- RGB2BGR\n",
    "  local im4 = im3:clone()\n",
    "  im4[{1,{},{}}] = im3[{3,{},{}}]\n",
    "  im4[{3,{},{}}] = im3[{1,{},{}}]\n",
    "\n",
    "  -- subtract imagenet mean\n",
    "  return im4 - image.scale(img_mean, 224, 224, 'bilinear')\n",
    "end\n",
    "\n",
    "-- Setting up networks \n",
    "print '==> Loading network'\n",
    "\n",
    "net = torch.load('/usr/local/data/zeilerNet/zeilerNet.net')\n",
    "net:cuda()\n",
    "-- as we want to classify, let's disable dropouts by enabling evaluation mode\n",
    "net:evaluate()\n",
    "\n",
    "print '==> Loading synsets'\n",
    "synset_words = load_synset()\n",
    "\n",
    "print '==> Loading image and imagenet mean'\n",
    "--image_name = 'Goldfish3.jpg'\n",
    "image_name = 'lena.jpg'\n",
    "img_mean_name = 'ilsvrc_2012_mean.t7'\n",
    "\n",
    "im = image.load(image_name)\n",
    "img_mean = torch.load(img_mean_name).img_mean:transpose(3,1)\n",
    "\n",
    "-- Have to resize and convert from RGB to BGR and subtract mean\n",
    "print '==> Preprocessing'\n",
    "I = preprocess(im, img_mean)\n",
    "\n",
    "_,classes = net:forward(I:cuda()):view(-1):float():sort(true)\n",
    "\n",
    "for i=1,5 do\n",
    "  print('predicted class '..tostring(i)..': ', synset_words[classes[i] ])\n",
    "end\n",
    "\n"
   ]
  },
  {
   "cell_type": "code",
   "execution_count": 3,
   "metadata": {
    "collapsed": false
   },
   "outputs": [
    {
     "data": {
      "text/plain": [
       "nn.Sequential {\n",
       "  [input -> (1) -> (2) -> (3) -> output]\n",
       "  (1): nn.Sequential {\n",
       "    [input -> (1) -> (2) -> (3) -> (4) -> (5) -> (6) -> (7) -> (8) -> (9) -> (10) -> (11) -> (12) -> (13) -> (14) -> output]\n",
       "    (1): cudnn.SpatialConvolution(3 -> 96, 7x7, 2,2, 1,1)\n",
       "    (2): cudnn.ReLU\n",
       "    (3): inn.SpatialSameResponseNormalization\n",
       "    (4): cudnn.SpatialMaxPooling\n",
       "    (5): cudnn.SpatialConvolution(96 -> 256, 5x5, 2,2)\n",
       "    (6): cudnn.ReLU\n",
       "    (7): inn.SpatialSameResponseNormalization\n",
       "    (8): cudnn.SpatialMaxPooling\n",
       "    (9): cudnn.SpatialConvolution(256 -> 384, 3x3, 1,1, 1,1)\n",
       "    (10): cudnn.ReLU\n",
       "    (11): cudnn.SpatialConvolution(384 -> 384, 3x3, 1,1, 1,1)\n",
       "    (12): cudnn.ReLU\n",
       "    (13): cudnn.SpatialConvolution(384 -> 256, 3x3, 1,1, 1,1)\n",
       "    (14): cudnn.ReLU\n",
       "  }\n",
       "  (2): inn.SpatialPyramidPooling\n",
       "  (3): nn.Sequential {\n",
       "    [input -> (1) -> (2) -> (3) -> (4) -> (5) -> (6) -> (7) -> output]\n",
       "    (1): nn.Linear(12800 -> 4096)\n",
       "    (2): cudnn.ReLU\n",
       "    (3): nn.Dropout(0.500000)\n",
       "    (4): nn.Linear(4096 -> 4096)\n",
       "    (5): cudnn.ReLU\n",
       "    (6): nn.Dropout(0.500000)\n",
       "    (7): nn.Linear(4096 -> 1000)\n",
       "  }\n",
       "}\n",
       "{\n",
       "  gradInput : CudaTensor - empty\n",
       "  modules : \n",
       "    {\n",
       "      1 : \n",
       "        nn.Sequential {\n",
       "          [input -> (1) -> (2) -> (3) -> (4) -> (5) -> (6) -> (7) -> (8) -> (9) -> (10) -> (11) -> (12) -> (13) -> (14) -> output]\n",
       "          (1): cudnn.SpatialConvolution(3 -> 96, 7x7, 2,2, 1,1)\n",
       "          (2): cudnn.ReLU\n",
       "          (3): inn.SpatialSameResponseNormalization\n",
       "          (4): cudnn.SpatialMaxPooling\n",
       "          (5): cudnn.SpatialConvolution(96 -> 256, 5x5, 2,2)\n",
       "          (6): cudnn.ReLU\n",
       "          (7): inn.SpatialSameResponseNormalization\n",
       "          (8): cudnn.SpatialMaxPooling\n",
       "          (9): cudnn.SpatialConvolution(256 -> 384, 3x3, 1,1, 1,1)\n",
       "          (10): cudnn.ReLU\n",
       "          (11): cudnn.SpatialConvolution(384 -> 384, 3x3, 1,1, 1,1)\n",
       "          (12): cudnn.ReLU\n",
       "          (13): cudnn.SpatialConvolution(384 -> 256, 3x3, 1,1, 1,1)\n",
       "          (14): cudnn.ReLU\n",
       "        }\n",
       "        {\n",
       "          gradInput : CudaTensor - empty\n",
       "    "
      ]
     },
     "execution_count": 3,
     "metadata": {},
     "output_type": "execute_result"
    },
    {
     "data": {
      "text/plain": [
       "      modules : \n",
       "            {\n",
       "              1 : \n",
       "                cudnn.SpatialConvolution(3 -> 96, 7x7, 2,2, 1,1)\n",
       "                {\n",
       "                  padW : 1\n",
       "                  nInputPlane : 3\n",
       "                  output : CudaTensor - size: 96x110x110\n",
       "                  gradInput : CudaTensor - size: 3x224x224\n",
       "                  iDesc : cdata<struct cudnnTensorStruct *[1]>: 0x40fc5698\n",
       "                  iSize : LongStorage - size: 4\n",
       "                  convDesc : cdata<struct cudnnConvolutionStruct *[1]>: 0x41d546c0\n",
       "                  output_offset : 1161600\n",
       "      "
      ]
     },
     "execution_count": 3,
     "metadata": {},
     "output_type": "execute_result"
    },
    {
     "data": {
      "text/plain": [
       "            gradBias : CudaTensor - size: 96\n",
       "                  algType : cdata<enum 761 [?]>: 0x407d4db8\n",
       "                  extraBuffer : CudaTensor - size: 147\n",
       "                  extraBufferSizeInBytes : 588\n",
       "                  oDescForBias : cdata<struct cudnnTensorStruct *[1]>: 0x40337be8\n",
       "                  oDesc : cdata<struct cudnnTensorStruct *[1]>: 0x40332788\n",
       "                  groups : 1\n",
       "                  dH : 2\n",
       "                  dW : 2\n",
       "                  nOutputPlane : 96\n",
       "                  bias : CudaTensor - size: 96\n",
       "                  kH : 7\n",
       "                  weight_offset : 14112\n",
       "                  finput : CudaTensor - empty\n",
       "                  biasDesc : cdata<struct cudnnTensorStruct *[1]>: 0x4032c0c8\n",
       "                  input_offset : 150528\n",
       "       "
      ]
     },
     "execution_count": 3,
     "metadata": {},
     "output_type": "execute_result"
    },
    {
     "data": {
      "text/plain": [
       "           weight : CudaTensor - size: 96x3x7x7\n",
       "                  train : false\n",
       "                  gradWeight : CudaTensor - size: 96x3x7x7\n",
       "                  fgradInput : CudaTensor - empty\n",
       "                  kW : 7\n",
       "                  padH : 1\n",
       "                  weightDesc : cdata<struct cudnnFilterStruct *[1]>: 0x41d63eb0\n",
       "                }\n",
       "              2 : \n",
       "                cudnn.ReLU\n",
       "                {\n",
       "                  inplace : true\n",
       "                  mode : CUDNN_ACTIVATION_RELU\n",
       "                  train : false\n",
       "                  output : CudaTensor - size: 96x110x110\n",
       "                  gradInput : CudaTensor - empty\n",
       "          "
      ]
     },
     "execution_count": 3,
     "metadata": {},
     "output_type": "execute_result"
    },
    {
     "data": {
      "text/plain": [
       "        nElem : 1161600\n",
       "                  iDesc : cdata<struct cudnnTensorStruct *[1]>: 0x418d9128\n",
       "                }\n",
       "              3 : \n",
       "                inn.SpatialSameResponseNormalization\n",
       "                {\n",
       "                  alpha : 5e-05\n",
       "                  train : false\n",
       "                  output : CudaTensor - size: 96x110x110\n",
       "                  gradInput : CudaTensor - empty\n",
       "                  size : 3\n",
       "                  beta : 0.75\n",
       "                  modules : nn.Sequential {\n",
       "  [input -> (1) -> (2) -> output]\n",
       "  (1): nn.ConcatTable {\n",
       "    input\n",
       "      |`-> (1): nn.Identity\n",
       "      |`-> (2): nn.Sequential {\n",
       "      |      [input -> (1) -> (2) -> (3) -> (4) -> (5) -> (6) -> output]\n",
       "      |      (1): nn.SpatialZeroPadding(l=1,r=1,t=1,b=1)\n",
       "      |      (2): nn.Power\n",
       "      |      (3): nn.SpatialAveragePooling(3,3,1,1)\n",
       "      |      (4): nn.MulConstant\n",
       "      |      (5): nn.AddConstant\n",
       "      |      (6): nn.Power\n",
       "      |    }\n",
       "       ... -> output\n",
       "  }\n",
       "  (2): nn.CDivTable\n",
       "}\n",
       "                }\n",
       "              4 : \n",
       "                cudnn.SpatialMaxPooling\n",
       "                {\n",
       "                  dH : 2\n",
       "                  dW : 2\n",
       "                  padH : 0\n",
       "       "
      ]
     },
     "execution_count": 3,
     "metadata": {},
     "output_type": "execute_result"
    },
    {
     "data": {
      "text/plain": [
       "           gradInput : CudaTensor - size: 96x110x110\n",
       "                  oDesc : cdata<struct cudnnTensorStruct *[1]>: 0x41d51d50\n",
       "                  iSize : LongStorage - size: 4\n",
       "                  iDesc : cdata<struct cudnnTensorStruct *[1]>: 0x40623e18\n",
       "                  poolDesc : cdata<struct cudnnPoolingStruct *[1]>: 0x40635348\n",
       "                  mode : CUDNN_POOLING_MAX\n",
       "                  train : false\n",
       "                  kW : 3\n",
       "                  ceil_mode : true\n",
       "                  padW : 0\n",
       "                  output : CudaTensor - size: 96x55x55\n",
       "                  kH : 3\n",
       "                }\n",
       "              5 : \n",
       "                cudnn.SpatialConvolution(96 -> 256, 5x5, 2,2)\n",
       "                {\n",
       "                  padW : 0\n",
       "                  nInputPlane : 96\n",
       "                  output : CudaTensor - size: 256x26x26\n",
       "                  gradInput : CudaTensor - size: 96x55x55\n",
       "                  iDesc : cdata<struct cudnnTensorStruct *[1]>: 0x40b19d20\n",
       "                  iSize : LongStorage - size: 4\n",
       "                "
      ]
     },
     "execution_count": 3,
     "metadata": {},
     "output_type": "execute_result"
    },
    {
     "data": {
      "text/plain": [
       "  convDesc : cdata<struct cudnnConvolutionStruct *[1]>: 0x41d4c9f8\n",
       "                  output_offset : 173056\n",
       "                  gradBias : CudaTensor - size: 256\n",
       "                  algType : cdata<enum 761 [?]>: 0x41252348\n",
       "                  extraBuffer : CudaTensor - size: 2400\n",
       "                  extraBufferSizeInBytes : 9600\n",
       "                  oDescForBias : cdata<struct cudnnTensorStruct *[1]>: 0x41ac6160\n",
       "                  oDesc : cdata<struct cudnnTensorStruct *[1]>: 0x40092df0\n",
       "                  groups : 1\n",
       "                  dH : 2\n",
       "                  dW : 2\n",
       "                  nOutputPlane : 256\n",
       "                  bias : CudaTensor - size: 256\n",
       "                  kH : 5\n",
       "                  weight_offset : 614400\n",
       "                  finput : CudaTensor - empty\n",
       "                  biasDesc : cdata<struct cudnnTensorStruct *[1]>: 0x41ab7648\n",
       "                  input_offset : 290400\n",
       "                  weight : CudaTensor - size: 256x96x5x5\n",
       "                  train : false\n"
      ]
     },
     "execution_count": 3,
     "metadata": {},
     "output_type": "execute_result"
    },
    {
     "data": {
      "text/plain": [
       "                  gradWeight : CudaTensor - size: 256x96x5x5\n",
       "                  fgradInput : CudaTensor - empty\n",
       "                  kW : 5\n",
       "                  padH : 0\n",
       "                  weightDesc : cdata<struct cudnnFilterStruct *[1]>: 0x41ed9e80\n",
       "                }\n",
       "              6 : \n",
       "                cudnn.ReLU\n",
       "                {\n",
       "                  inplace : true\n",
       "                  mode : CUDNN_ACTIVATION_RELU\n",
       "                  train : false\n",
       "                  output : CudaTensor - size: 256x26x26\n",
       "                  gradInput : CudaTensor - empty\n",
       "                  nElem : 173056\n",
       "                  iDesc : cdata<struct cudnnTensorStruct *[1]>: 0x40f4bd60\n",
       "                }\n",
       "              7 : \n",
       "                inn.SpatialSameResponseNormalization\n",
       "                {\n"
      ]
     },
     "execution_count": 3,
     "metadata": {},
     "output_type": "execute_result"
    },
    {
     "data": {
      "text/plain": [
       "                  alpha : 5e-05\n",
       "                  train : false\n",
       "                  output : CudaTensor - size: 256x26x26\n",
       "                  gradInput : CudaTensor - empty\n",
       "                  size : 3\n",
       "                  beta : 0.75\n",
       "                  modules : nn.Sequential {\n",
       "  [input -> (1) -> (2) -> output]\n",
       "  (1): nn.ConcatTable {\n",
       "    input\n",
       "      |`-> (1): nn.Identity\n",
       "      |`-> (2): nn.Sequential {\n",
       "      |      [input -> (1) -> (2) -> (3) -> (4) -> (5) -> (6) -> output]\n",
       "      |      (1): nn.SpatialZeroPadding(l=1,r=1,t=1,b=1)\n",
       "      |      (2): nn.Power\n",
       "      |      (3): nn.SpatialAveragePooling(3,3,1,1)\n",
       "      |      (4): nn.MulConstant\n",
       "      |      (5): nn.AddConstant\n",
       "      |      (6): nn.Power\n",
       "      |    }\n",
       "       ... -> output\n",
       "  }\n",
       "  (2): nn.CDivTable\n",
       "}\n",
       "                }\n",
       "              8 : \n",
       "                cudnn.SpatialMaxPooling\n",
       "                {\n",
       "                  dH : 2\n",
       "                  dW : 2\n",
       "                  padH : 0\n",
       "                  gradInput : CudaTensor - size: 256x26x26\n",
       "                  oDesc : cdata<struct cudnnTensorStruct *[1]>: 0x40b214f8\n",
       "                  iSize : LongStorage - size: 4\n",
       "                  iDesc : cdata<struct cudnnTensorStruct *[1]>: 0x40c95008\n",
       "      "
      ]
     },
     "execution_count": 3,
     "metadata": {},
     "output_type": "execute_result"
    },
    {
     "data": {
      "text/plain": [
       "            poolDesc : cdata<struct cudnnPoolingStruct *[1]>: 0x41259dd8\n",
       "                  mode : CUDNN_POOLING_MAX\n",
       "                  train : false\n",
       "                  kW : 3\n",
       "                  ceil_mode : true\n",
       "                  padW : 0\n",
       "                  output : CudaTensor - size: 256x13x13\n",
       "                  kH : 3\n",
       "                }\n",
       "              9 : \n",
       "                cudnn.SpatialConvolution(256 -> 384, 3x3, 1,1, 1,1)\n",
       "                {\n",
       "                  padW : 1\n",
       "                  nInputPlane : 256\n",
       "                  output : CudaTensor - size: 384x13x13\n",
       "                  gradInput : CudaTensor - size: 256x13x13\n",
       "                  iDesc : cdata<struct cudnnTensorStruct *[1]>: 0x41ac1818\n",
       "                  iSize : LongStorage - size: 4\n",
       "                  convDesc : cdata<struct cudnnConvolutionStruct *[1]>: 0x40fc8a58\n",
       "                  output_offset : 64896\n"
      ]
     },
     "execution_count": 3,
     "metadata": {},
     "output_type": "execute_result"
    },
    {
     "data": {
      "text/plain": [
       "                  gradBias : CudaTensor - size: 384\n",
       "                  algType : cdata<enum 761 [?]>: 0x40808de0\n",
       "                  extraBuffer : CudaTensor - size: 2304\n",
       "                  extraBufferSizeInBytes : 9216\n",
       "                  oDescForBias : cdata<struct cudnnTensorStruct *[1]>: 0x40090e98\n",
       "                  oDesc : cdata<struct cudnnTensorStruct *[1]>: 0x41d54128\n",
       "                  groups : 1\n",
       "                  dH : 1\n",
       "                  dW : 1\n",
       "                  nOutputPlane : 384\n",
       "                  bias : CudaTensor - size: 384\n",
       "                  kH : 3\n",
       "                  weight_offset : 884736\n",
       "                  finput : CudaTensor - empty\n",
       "                  biasDesc : cdata<struct cudnnTensorStruct *[1]>: 0x407f8ef0\n",
       "                  input_offset : 43264\n",
       "                  weight : CudaTensor - size: 384x256x3x3\n",
       "                  train : false\n",
       "               "
      ]
     },
     "execution_count": 3,
     "metadata": {},
     "output_type": "execute_result"
    },
    {
     "data": {
      "text/plain": [
       "   gradWeight : CudaTensor - size: 384x256x3x3\n",
       "                  fgradInput : CudaTensor - empty\n",
       "                  kW : 3\n",
       "                  padH : 1\n",
       "                  weightDesc : cdata<struct cudnnFilterStruct *[1]>: 0x40086220\n",
       "                }\n",
       "              10 : \n",
       "                cudnn.ReLU\n",
       "                {\n",
       "                  inplace : true\n",
       "                  mode : CUDNN_ACTIVATION_RELU\n",
       "                  train : false\n",
       "                  output : CudaTensor - size: 384x13x13\n",
       "                  gradInput : CudaTensor - empty\n",
       "                  nElem : 64896\n",
       "                  iDesc : cdata<struct cudnnTensorStruct *[1]>: 0x4140bec0\n",
       "                }\n",
       "              11 : \n",
       "                cudnn.SpatialConvolution(384 -> 384, 3x3, 1,1, 1,1)\n",
       "                {\n",
       "                  padW : 1\n",
       "                  nInputPlane : 384\n",
       "            "
      ]
     },
     "execution_count": 3,
     "metadata": {},
     "output_type": "execute_result"
    },
    {
     "data": {
      "text/plain": [
       "      output : CudaTensor - size: 384x13x13\n",
       "                  gradInput : CudaTensor - size: 384x13x13\n",
       "                  iDesc : cdata<struct cudnnTensorStruct *[1]>: 0x4008f588\n",
       "                  iSize : LongStorage - size: 4\n",
       "                  convDesc : cdata<struct cudnnConvolutionStruct *[1]>: 0x400944e8\n",
       "                  output_offset : 64896\n",
       "                  gradBias : CudaTensor - size: 384\n",
       "                  algType : cdata<enum 761 [?]>: 0x406396d8\n",
       "                  extraBuffer : CudaTensor - size: 3456\n",
       "                  extraBufferSizeInBytes : 13824\n",
       "                  oDescForBias : cdata<struct cudnnTensorStruct *[1]>: 0x4061d8f0\n",
       "                  oDesc : cdata<struct cudnnTensorStruct *[1]>: 0x407f2620\n",
       "                  groups : 1\n",
       "                  dH : 1\n",
       "                  dW : 1\n",
       "                  nOutputPlane : 384\n",
       "                  bias : CudaTensor - size: 384\n",
       "                  kH : 3\n",
       "                  weight_offset : 1327104\n",
       "                  finput : CudaTensor - empty\n",
       "                  biasDesc : cdata<struct cudnnTensorStruct *[1]>: 0x40081fa0\n",
       "                  input_offset : 64896\n",
       "     "
      ]
     },
     "execution_count": 3,
     "metadata": {},
     "output_type": "execute_result"
    },
    {
     "data": {
      "text/plain": [
       "             weight : CudaTensor - size: 384x384x3x3\n",
       "                  train : false\n",
       "                  gradWeight : CudaTensor - size: 384x384x3x3\n",
       "                  fgradInput : CudaTensor - empty\n",
       "                  kW : 3\n",
       "                  padH : 1\n",
       "                  weightDesc : cdata<struct cudnnFilterStruct *[1]>: 0x40b2c588\n",
       "                }\n",
       "              12 : \n",
       "                cudnn.ReLU\n",
       "                {\n",
       "                  inplace : true\n",
       "                  mode : CUDNN_ACTIVATION_RELU\n",
       "                  train : false\n",
       "                  output : CudaTensor - size: 384x13x13\n",
       "                  gradInput : CudaTensor - empty\n",
       "                  nElem : 64896\n",
       "                  iDesc : cdata<struct cudnnTensorStruct *[1]>: 0x407d1db8\n",
       "                }\n",
       "              13 : \n",
       "                cudnn.SpatialConvolution(384 -> 256, 3x3, 1,1, 1,1)\n",
       "                {\n",
       "                  padW : 1\n",
       "                  nInputPlane : 384\n"
      ]
     },
     "execution_count": 3,
     "metadata": {},
     "output_type": "execute_result"
    },
    {
     "data": {
      "text/plain": [
       "                  output : CudaTensor - size: 256x13x13\n",
       "                  gradInput : CudaTensor - size: 384x13x13\n",
       "                  iDesc : cdata<struct cudnnTensorStruct *[1]>: 0x4126d5c0\n",
       "                  iSize : LongStorage - size: 4\n",
       "                  convDesc : cdata<struct cudnnConvolutionStruct *[1]>: 0x40f46128\n",
       "                  output_offset : 43264\n",
       "                  gradBias : CudaTensor - size: 256\n",
       "                  algType : cdata<enum 761 [?]>: 0x41d4d780\n",
       "                  extraBuffer : CudaTensor - size: 3456\n",
       "                  extraBufferSizeInBytes : 13824\n",
       "                  oDescForBias : cdata<struct cudnnTensorStruct *[1]>: 0x41d54440\n",
       "                  oDesc : cdata<struct cudnnTensorStruct *[1]>: 0x412678d8\n",
       "                  groups : 1\n",
       "                  dH : 1\n",
       "                  dW : 1\n",
       "                  nOutputPlane : 256\n",
       "                  bias : CudaTensor - size: 256\n",
       "                  kH : 3\n",
       "                  weight_offset : 884736\n",
       "                  finput : CudaTensor - empty\n",
       "                  biasDesc : cdata<struct cudnnTensorStruct *[1]>: 0x40637df8\n",
       " "
      ]
     },
     "execution_count": 3,
     "metadata": {},
     "output_type": "execute_result"
    },
    {
     "data": {
      "text/plain": [
       "                 input_offset : 64896\n",
       "                  weight : CudaTensor - size: 256x384x3x3\n",
       "                  train : false\n",
       "                  gradWeight : CudaTensor - size: 256x384x3x3\n",
       "                  fgradInput : CudaTensor - empty\n",
       "                  kW : 3\n",
       "                  padH : 1\n",
       "                  weightDesc : cdata<struct cudnnFilterStruct *[1]>: 0x40459ca0\n",
       "                }\n",
       "              14 : \n",
       "                cudnn.ReLU\n",
       "                {\n",
       "                  inplace : true\n",
       "                  mode : CUDNN_ACTIVATION_RELU\n",
       "                  train : false\n",
       "                  output : CudaTensor - size: 256x13x13\n",
       "                  gradInput : CudaTensor - empty\n",
       "                  nElem : 43264\n",
       "                  iDesc : cdata<struct cudnnTensorStruct *[1]>: 0x40b1b540\n",
       "                }\n",
       "            }\n",
       "          train : false\n"
      ]
     },
     "execution_count": 3,
     "metadata": {},
     "output_type": "execute_result"
    },
    {
     "data": {
      "text/plain": [
       "          output : CudaTensor - size: 256x13x13\n",
       "        }\n",
       "      2 : \n",
       "        inn.SpatialPyramidPooling\n",
       "        {\n",
       "          pyr : \n",
       "            {\n",
       "              1 : \n",
       "                {\n",
       "                  1 : 1\n",
       "                  2 : 1\n",
       "                }\n",
       "              2 : \n",
       "                {\n",
       "                  1 : 2\n",
       "                  2 : 2\n",
       "                }\n",
       "              3 : \n",
       "                {\n",
       "                  1 : 3\n",
       "                  2 : 3\n",
       "                }\n",
       "              4 : \n",
       "                {\n",
       "                  1 : 6\n",
       "                  2 : 6\n",
       "                }\n",
       "   "
      ]
     },
     "execution_count": 3,
     "metadata": {},
     "output_type": "execute_result"
    },
    {
     "data": {
      "text/plain": [
       "         }\n",
       "          train : false\n",
       "          output : CudaTensor - size: 12800\n",
       "          gradInput : CudaTensor - empty\n",
       "          module : \n",
       "            nn.Concat {\n",
       "              input\n",
       "                |`-> (1): nn.Sequential {\n",
       "                |      [input -> (1) -> (2) -> output]\n",
       "                |      (1): nn.SpatialAdaptiveMaxPooling\n",
       "                |      (2): nn.View\n",
       "                |    }\n",
       "                |`-> (2): nn.Sequential {\n",
       "                |      [input -> (1) -> (2) -> output]\n",
       "                |      (1): nn.SpatialAdaptiveMaxPooling\n",
       "                |      (2): nn.View\n",
       "                |    }\n",
       "                |`-> (3): nn.Sequential {\n",
       "                |      [input -> (1) -> (2) -> output]\n",
       "                |      (1): nn.SpatialAdaptiveMaxPooling\n",
       "                |      (2): nn.View\n",
       "                |    }\n",
       "                |`-> (4): nn.Sequential {\n",
       "                |      [input -> (1) -> (2) -> output]\n",
       "                |      (1): nn.SpatialAdaptiveMaxPooling\n",
       "                |      (2): nn.View\n",
       "                |    }\n",
       "                 ... -> output\n",
       "            }\n",
       "            {\n",
       "              output : CudaTensor - size: 12800\n",
       "              gradInput : CudaTensor - empty\n",
       "              modules : \n",
       "                {\n",
       "                  1 : nn.Sequential {\n",
       "  [input -> (1) -> (2) -> output]\n",
       "  (1): nn.SpatialAdaptiveMaxPooling\n",
       "  (2): nn.View\n",
       "}\n",
       "                  2 : nn.Sequential {\n",
       "  [input -> (1) -> (2) -> output]\n",
       "  (1): nn.SpatialAdaptiveMaxPooling\n",
       "  (2): nn.View\n",
       "}\n",
       "                  3 : nn.Sequential {\n",
       "  [input -> (1) -> (2) -> output]\n",
       "  (1): nn.SpatialAdaptiveMaxPooling\n",
       "  (2): nn.View\n",
       "}\n",
       "                  4 : nn.Sequential {\n",
       "  [input -> (1) -> (2) -> output]\n",
       "  (1): nn.SpatialAdaptiveMaxPooling\n",
       "  (2): nn.View\n",
       "}\n",
       "                }\n",
       "              size : LongStorage - size: 1\n",
       "              dimension : 1\n",
       "            }\n",
       "          dimd : 1\n",
       "    "
      ]
     },
     "execution_count": 3,
     "metadata": {},
     "output_type": "execute_result"
    },
    {
     "data": {
      "text/plain": [
       "    }\n",
       "      3 : \n",
       "        nn.Sequential {\n",
       "          [input -> (1) -> (2) -> (3) -> (4) -> (5) -> (6) -> (7) -> output]\n",
       "          (1): nn.Linear(12800 -> 4096)\n",
       "          (2): cudnn.ReLU\n",
       "          (3): nn.Dropout(0.500000)\n",
       "          (4): nn.Linear(4096 -> 4096)\n",
       "          (5): cudnn.ReLU\n",
       "          (6): nn.Dropout(0.500000)\n",
       "          (7): nn.Linear(4096 -> 1000)\n",
       "        }\n",
       "        {\n",
       "          gradInput : CudaTensor - empty\n",
       "          modules : \n",
       "            {\n",
       "              1 : \n",
       "                nn.Linear(12800 -> 4096)\n",
       "                {\n",
       "                  gradBias : CudaTensor - size: 4096\n",
       "                  weight : CudaTensor - size: 4096x12800\n",
       "                  train : false\n",
       "                  bias : CudaTensor - size: 4096\n",
       "                  gradInput : CudaTensor - empty\n",
       "                  output : CudaTensor - size: 4096\n",
       "                  gradWeight : CudaTensor - size: 4096x12800\n",
       "                }\n",
       "              2 : \n",
       "                cudnn.ReLU\n",
       "                {\n",
       "                  inplace : true\n",
       "                  mode : CUDNN_ACTIVATION_RELU\n",
       "            "
      ]
     },
     "execution_count": 3,
     "metadata": {},
     "output_type": "execute_result"
    },
    {
     "data": {
      "text/plain": [
       "      train : false\n",
       "                  output : CudaTensor - size: 4096\n",
       "                  gradInput : CudaTensor - empty\n",
       "                  nElem : 4096\n",
       "                  iDesc : cdata<struct cudnnTensorStruct *[1]>: 0x4043b708\n",
       "                }\n",
       "              3 : \n",
       "                nn.Dropout(0.500000)\n",
       "                {\n",
       "                  v2 : false\n",
       "                  noise : CudaTensor - empty\n",
       "                  train : false\n",
       "                  p : 0.5\n",
       "                  gradInput : CudaTensor - empty\n",
       "                  output : CudaTensor - size: 4096\n",
       "                }\n",
       "              4 : \n",
       "                nn.Linear(4096 -> 4096)\n",
       "                {\n",
       "                  gradBias : CudaTensor - size: 4096\n",
       "                  weight : CudaTensor - size: 4096x4096\n",
       "                  train : false\n",
       "         "
      ]
     },
     "execution_count": 3,
     "metadata": {},
     "output_type": "execute_result"
    },
    {
     "data": {
      "text/plain": [
       "         bias : CudaTensor - size: 4096\n",
       "                  gradInput : CudaTensor - empty\n",
       "                  output : CudaTensor - size: 4096\n",
       "                  gradWeight : CudaTensor - size: 4096x4096\n",
       "                }\n",
       "              5 : \n",
       "                cudnn.ReLU\n",
       "                {\n",
       "                  inplace : true\n",
       "                  mode : CUDNN_ACTIVATION_RELU\n",
       "                  train : false\n",
       "                  output : CudaTensor - size: 4096\n",
       "                  gradInput : CudaTensor - empty\n",
       "                  nElem : 4096\n",
       "                  iDesc : cdata<struct cudnnTensorStruct *[1]>: 0x41abd250\n",
       "                }\n",
       "              6 : \n",
       "                nn.Dropout(0.500000)\n",
       "                {\n",
       "                  v2 : false\n",
       "                  noise : CudaTensor - empty\n",
       "                  train : false\n",
       "              "
      ]
     },
     "execution_count": 3,
     "metadata": {},
     "output_type": "execute_result"
    },
    {
     "data": {
      "text/plain": [
       "    p : 0.5\n",
       "                  gradInput : CudaTensor - empty\n",
       "                  output : CudaTensor - size: 4096\n",
       "                }\n",
       "              7 : \n",
       "                nn.Linear(4096 -> 1000)\n",
       "                {\n",
       "                  gradBias : CudaTensor - size: 1000\n",
       "                  weight : CudaTensor - size: 1000x4096\n",
       "                  train : false\n",
       "                  bias : CudaTensor - size: 1000\n",
       "                  gradInput : CudaTensor - empty\n",
       "                  output : CudaTensor - size: 1000\n",
       "                  gradWeight : CudaTensor - size: 1000x4096\n",
       "                }\n",
       "            }\n",
       "          train : false\n",
       "          output : CudaTensor - size: 1000\n",
       "        }\n",
       "    }\n",
       "  train : false\n",
       "  output : CudaTensor - size: 1000\n",
       "}\n"
      ]
     },
     "execution_count": 3,
     "metadata": {},
     "output_type": "execute_result"
    }
   ],
   "source": [
    "print(net)"
   ]
  },
  {
   "cell_type": "code",
   "execution_count": 16,
   "metadata": {
    "collapsed": false,
    "scrolled": false
   },
   "outputs": [
    {
     "data": {
      "text/plain": [
       "\n",
       " 256\n",
       "  13\n",
       "  13\n",
       "[torch.LongStorage of size 3]\n",
       "\n"
      ]
     },
     "execution_count": 16,
     "metadata": {},
     "output_type": "execute_result"
    },
    {
     "data": {
      "text/plain": [
       "==> Time elapsed: 10.261416912079 seconds\t\n",
       "\n",
       " 256\n",
       " 384\n",
       "  13\n",
       "  13\n",
       "[torch.LongStorage of size 4]\n",
       "\n"
      ]
     },
     "execution_count": 16,
     "metadata": {},
     "output_type": "execute_result"
    }
   ],
   "source": [
    "require 'modules/SpatialDeconvolution'\n",
    "require 'modules/SpatialUnPooling'\n",
    "\n",
    "conv5_fm = net:get(1):get(13).output\n",
    "print(conv5_fm:size())\n",
    "timer = torch.Timer()\n",
    "deconv5 = cudnn.SpatialDeconvolution( net:get(1):get(13), net:get(1):get(11).output:size(2), true )\n",
    "conv4_fm = deconv5:forward(conv5_fm)\n",
    "print('==> Time elapsed: ' .. timer:time().real .. ' seconds')\n",
    "print(conv4_fm:size())"
   ]
  },
  {
   "cell_type": "code",
   "execution_count": 14,
   "metadata": {
    "collapsed": false
   },
   "outputs": [
    {
     "data": {
      "text/plain": [
       "\n",
       " 384\n",
       "  13\n",
       "  13\n",
       "[torch.LongStorage of size 3]\n",
       "\n"
      ]
     },
     "execution_count": 14,
     "metadata": {},
     "output_type": "execute_result"
    }
   ],
   "source": [
    "conv5_151_conv4 = conv4_fm[151]2\n",
    "print(conv5_151_conv4:size())"
   ]
  },
  {
   "cell_type": "code",
   "execution_count": null,
   "metadata": {
    "collapsed": true
   },
   "outputs": [],
   "source": []
  }
 ],
 "metadata": {
  "kernelspec": {
   "display_name": "iTorch",
   "language": "lua",
   "name": "itorch"
  },
  "language_info": {
   "name": "lua",
   "version": "20100"
  }
 },
 "nbformat": 4,
 "nbformat_minor": 0
}
