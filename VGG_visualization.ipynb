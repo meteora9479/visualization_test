{
 "cells": [
  {
   "cell_type": "code",
   "execution_count": 9,
   "metadata": {
    "collapsed": false
   },
   "outputs": [
    {
     "data": {
      "text/plain": [
       "==> Loading network\t\n"
      ]
     },
     "execution_count": 9,
     "metadata": {},
     "output_type": "execute_result"
    },
    {
     "data": {
      "text/plain": [
       "Successfully loaded /usr/local/data/CaffeZoo/VGG_ILSVRC_16_layers/VGG_ILSVRC_16_layers.caffemodel\n"
      ]
     },
     "execution_count": 9,
     "metadata": {},
     "output_type": "execute_result"
    },
    {
     "data": {
      "text/plain": [
       "conv1_1: 64 3 3 3\n",
       "conv1_2: 64 64 3 3\n",
       "conv2_1: 128 64 3 3\n",
       "conv2_2: 128 128 3 3\n"
      ]
     },
     "execution_count": 9,
     "metadata": {},
     "output_type": "execute_result"
    },
    {
     "data": {
      "text/plain": [
       "conv3_1: 256 128 3 3\n",
       "conv3_2: 256 256 3 3\n"
      ]
     },
     "execution_count": 9,
     "metadata": {},
     "output_type": "execute_result"
    },
    {
     "data": {
      "text/plain": [
       "conv3_3: 256 256 3 3\n",
       "conv4_1: 512 256 3 3\n"
      ]
     },
     "execution_count": 9,
     "metadata": {},
     "output_type": "execute_result"
    },
    {
     "data": {
      "text/plain": [
       "conv4_2: 512 512 3 3\n"
      ]
     },
     "execution_count": 9,
     "metadata": {},
     "output_type": "execute_result"
    },
    {
     "data": {
      "text/plain": [
       "conv4_3: 512 512 3 3\n"
      ]
     },
     "execution_count": 9,
     "metadata": {},
     "output_type": "execute_result"
    },
    {
     "data": {
      "text/plain": [
       "conv5_1: 512 512 3 3\n"
      ]
     },
     "execution_count": 9,
     "metadata": {},
     "output_type": "execute_result"
    },
    {
     "data": {
      "text/plain": [
       "conv5_2: 512 512 3 3\n"
      ]
     },
     "execution_count": 9,
     "metadata": {},
     "output_type": "execute_result"
    },
    {
     "data": {
      "text/plain": [
       "conv5_3: 512 512 3 3\n"
      ]
     },
     "execution_count": 9,
     "metadata": {},
     "output_type": "execute_result"
    },
    {
     "data": {
      "text/plain": [
       "fc6: 1 1 25088 4096\n"
      ]
     },
     "execution_count": 9,
     "metadata": {},
     "output_type": "execute_result"
    },
    {
     "data": {
      "text/plain": [
       "fc7: 1 1 4096 4096\n"
      ]
     },
     "execution_count": 9,
     "metadata": {},
     "output_type": "execute_result"
    },
    {
     "data": {
      "text/plain": [
       "fc8: 1 1 4096 1000\n"
      ]
     },
     "execution_count": 9,
     "metadata": {},
     "output_type": "execute_result"
    },
    {
     "data": {
      "text/plain": [
       "==> Loading synsets\t\n"
      ]
     },
     "execution_count": 9,
     "metadata": {},
     "output_type": "execute_result"
    },
    {
     "data": {
      "text/plain": [
       "==> Loading image and imagenet mean\t\n"
      ]
     },
     "execution_count": 9,
     "metadata": {},
     "output_type": "execute_result"
    },
    {
     "data": {
      "text/plain": [
       "==> Preprocessing\t\n"
      ]
     },
     "execution_count": 9,
     "metadata": {},
     "output_type": "execute_result"
    },
    {
     "data": {
      "text/plain": [
       "predicted class 1: \tgoldfish, Carassius auratus\t\n",
       "predicted class 2: \ttench, Tinca tinca\t\n",
       "predicted class 3: \tgar, garfish, garpike, billfish, Lepisosteus osseus\t\n",
       "predicted class 4: \tcoho, cohoe, coho salmon, blue jack, silver salmon, Oncorhynchus kisutch\t\n",
       "predicted class 5: \tcoral reef\t\n"
      ]
     },
     "execution_count": 9,
     "metadata": {},
     "output_type": "execute_result"
    }
   ],
   "source": [
    "require 'loadcaffe'\n",
    "require 'inn'\n",
    "require 'image'\n",
    "require 'dcnn'\n",
    "\n",
    "-- Loads the mapping from net outputs to human readable labels\n",
    "function load_synset()\n",
    "  local file = io.open 'synset_words.txt'\n",
    "  local list = {}\n",
    "  while true do\n",
    "    local line = file:read()\n",
    "    if not line then break end\n",
    "    table.insert(list, string.sub(line,11))\n",
    "  end\n",
    "  return list\n",
    "end\n",
    "\n",
    "-- Converts an image from RGB to BGR format and subtracts mean\n",
    "function preprocess(im, img_mean)\n",
    "  -- rescale the image\n",
    "  local im3 = image.scale(im,224,224,'bilinear')*255\n",
    "  -- RGB2BGR\n",
    "  local im4 = im3:clone()\n",
    "  im4[{1,{},{}}] = im3[{3,{},{}}]\n",
    "  im4[{3,{},{}}] = im3[{1,{},{}}]\n",
    "\n",
    "  -- subtract imagenet mean\n",
    "  return im4 - image.scale(img_mean, 224, 224, 'bilinear')\n",
    "end\n",
    "\n",
    "-- Setting up networks \n",
    "print '==> Loading network'\n",
    "\n",
    "prototxt_name = '/usr/local/data/CaffeZoo/VGG_ILSVRC_16_layers/VGG_ILSVRC_16_layers_deploy.prototxt'\n",
    "binary_name = '/usr/local/data/CaffeZoo/VGG_ILSVRC_16_layers/VGG_ILSVRC_16_layers.caffemodel'\n",
    "\n",
    "net = loadcaffe.load(prototxt_name, binary_name, 'cudnn')\n",
    "\n",
    "net:cuda()\n",
    "-- as we want to classify, let's disable dropouts by enabling evaluation mode\n",
    "net:evaluate()\n",
    "\n",
    "print '==> Loading synsets'\n",
    "synset_words = load_synset()\n",
    "\n",
    "print '==> Loading image and imagenet mean'\n",
    "image_name = 'Goldfish3.jpg'\n",
    "--image_name = 'lena.jpg'\n",
    "--image_name='people.jpg'\n",
    "img_mean_name = 'ilsvrc_2012_mean.t7'\n",
    "\n",
    "im = image.load(image_name)\n",
    "img_mean = torch.load(img_mean_name).img_mean:transpose(3,1)\n",
    "\n",
    "-- Have to resize and convert from RGB to BGR and subtract mean\n",
    "print '==> Preprocessing'\n",
    "I = preprocess(im, img_mean)\n",
    "\n",
    "\n",
    "-- Replace pooling by dual pooling\n",
    "unpooling_layers = dcnn:ReplaceDualPoolingModule(net)\n",
    "\n",
    "_,classes = net:forward(I:cuda()):view(-1):float():sort(true)\n",
    "\n",
    "for i=1,5 do\n",
    "  print('predicted class '..tostring(i)..': ', synset_words[classes[i] ])\n",
    "end"
   ]
  },
  {
   "cell_type": "code",
   "execution_count": null,
   "metadata": {
    "collapsed": false
   },
   "outputs": [],
   "source": [
    "function dcnn:CreateDeconvNet( net, unpooling_layers, input_img, layer_num, neuron_index, normal_deconv  )\n",
    "    neuron_index = neuron_index or 0\n",
    "    if neuron_index == true then\n",
    "        neuron_index = 0 \n",
    "        normal_deconv = true\n",
    "    end\n",
    "    \n",
    "    if neuron_index == false then\n",
    "        neuron_index = 0 \n",
    "        normal_deconv = false\n",
    "    end \n",
    "    \n",
    "    deconvNet = nn.Sequential()\n",
    "    local first_deconv = true\n",
    "    local unpooling_idx = 1\n",
    "    for i=layer_num,1,-1 do\n",
    "        if torch.typename( net:get(i)) == 'cudnn.SpatialConvolution' then\n",
    "            local reconstructed_size = 0\n",
    "            if i==1 then\n",
    "                reconstructed_size = input_img:size(2)\n",
    "            else    \n",
    "                reconstructed_size = net:get(i-1).output:size(2)\n",
    "            end\n",
    "                \n",
    "            if first_deconv == true then\n",
    "                if neuron_index ~= 0 then \n",
    "                    deconvNet:add( cudnn.SpatialDeconvolution( net:get(i), reconstructed_size, neuron_index ))\n",
    "                else\n",
    "                    deconvNet:add( cudnn.SpatialDeconvolution( net:get(i), reconstructed_size, normal_deconv ))\n",
    "                end\n",
    "                \n",
    "                first_deconv = false\n",
    "            else\n",
    "                deconvNet:add( cudnn.SpatialDeconvolution( net:get(i), reconstructed_size, true ))\n",
    "            end\n",
    "            \n",
    "        elseif torch.typename( net:get(i)) == 'dcnn.DualSpatialMaxPooling' then\n",
    "            local unpooling_idx = 1\n",
    "            for j=i,1,-1 do  \n",
    "                if torch.typename( net:get(j)) == 'dcnn.DualSpatialMaxPooling' then\n",
    "                   unpooling_idx = unpooling_idx + 1\n",
    "                end\n",
    "            end\n",
    "            \n",
    "            deconvNet:add( unpooling_layers[unpooling_idx])\n",
    "        \n",
    "        elseif torch.typename( net:get(i)) == cudnn.ReLU then\n",
    "            deconvNet:add( cudnn.ReLU(true) )\n",
    "            \n",
    "        else\n",
    "            error('This type of layer is not supported !')\n",
    "        end\n",
    "    end    \n",
    "        \n",
    "    return deconvNet\n",
    "end"
   ]
  },
  {
   "cell_type": "code",
   "execution_count": 10,
   "metadata": {
    "collapsed": false
   },
   "outputs": [
    {
     "data": {
      "text/plain": [
       "nn.Sequential {\n",
       "  [input -> (1) -> (2) -> (3) -> (4) -> (5) -> (6) -> (7) -> (8) -> (9) -> (10) -> (11) -> (12) -> (13) -> (14) -> (15) -> (16) -> (17) -> (18) -> (19) -> (20) -> (21) -> (22) -> (23) -> (24) -> (25) -> (26) -> (27) -> (28) -> (29) -> (30) -> (31) -> (32) -> (33) -> (34) -> (35) -> (36) -> (37) -> (38) -> (39) -> (40) -> output]\n",
       "  (1): cudnn.SpatialConvolution(3 -> 64, 3x3, 1,1, 1,1)\n",
       "  (2): cudnn.ReLU\n",
       "  (3): cudnn.SpatialConvolution(64 -> 64, 3x3, 1,1, 1,1)\n",
       "  (4): cudnn.ReLU\n",
       "  (5): dcnn.DualSpatialMaxPooling(2,2,2,2)\n",
       "  (6): cudnn.SpatialConvolution(64 -> 128, 3x3, 1,1, 1,1)\n",
       "  (7): cudnn.ReLU\n",
       "  (8): cudnn.SpatialConvolution(128 -> 128, 3x3, 1,1, 1,1)\n",
       "  (9): cudnn.ReLU\n",
       "  (10): dcnn.DualSpatialMaxPooling(2,2,2,2)\n",
       "  (11): cudnn.SpatialConvolution(128 -> 256, 3x3, 1,1, 1,1)\n",
       "  (12): cudnn.ReLU\n",
       "  (13): cudnn.SpatialConvolution(256 -> 256, 3x3, 1,1, 1,1)\n",
       "  (14): cudnn.ReLU\n",
       "  (15): cudnn.SpatialConvolution(256 -> 256, 3x3, 1,1, 1,1)\n",
       "  (16): cudnn.ReLU\n",
       "  (17): dcnn.DualSpatialMaxPooling(2,2,2,2)\n",
       "  (18): cudnn.SpatialConvolution(256 -> 512, 3x3, 1,1, 1,1)\n",
       "  (19): cudnn.ReLU\n",
       "  (20): cudnn.SpatialConvolution(512 -> 512, 3x3, 1,1, 1,1)\n",
       "  (21): cudnn.ReLU\n",
       "  (22): cudnn.SpatialConvolution(512 -> 512, 3x3, 1,1, 1,1)\n",
       "  (23): cudnn.ReLU\n",
       "  (24): dcnn.DualSpatialMaxPooling(2,2,2,2)\n",
       "  (25): cudnn.SpatialConvolution(512 -> 512, 3x3, 1,1, 1,1)\n",
       "  (26): cudnn.ReLU\n",
       "  (27): cudnn.SpatialConvolution(512 -> 512, 3x3, 1,1, 1,1)\n",
       "  (28): cudnn.ReLU\n",
       "  (29): cudnn.SpatialConvolution(512 -> 512, 3x3, 1,1, 1,1)\n",
       "  (30): cudnn.ReLU\n",
       "  (31): dcnn.DualSpatialMaxPooling(2,2,2,2)\n",
       "  (32): nn.View\n",
       "  (33): nn.Linear(25088 -> 4096)\n",
       "  (34): cudnn.ReLU\n",
       "  (35): nn.Dropout(0.500000)\n",
       "  (36): nn.Linear(4096 -> 4096)\n",
       "  (37): cudnn.ReLU\n",
       "  (38): nn.Dropout(0.500000)\n",
       "  (39): nn.Linear(4096 -> 1000)\n",
       "  (40): nn.SoftMax\n",
       "}\n",
       "{\n",
       "  gradInput : CudaTensor - empty\n",
       "  modules : \n",
       "    {\n",
       "      1 : \n",
       "        cudnn.SpatialConvolution(3 -> 64, 3x3, 1,1, 1,1)\n",
       "        {\n",
       "          padW : 1\n",
       "          nInputPlane : 3\n",
       "          output : CudaTensor - size: 64x224x224\n"
      ]
     },
     "execution_count": 10,
     "metadata": {},
     "output_type": "execute_result"
    },
    {
     "data": {
      "text/plain": [
       "          gradInput : CudaTensor - size: 3x224x224\n",
       "          iDesc : cdata<struct cudnnTensorStruct *[1]>: 0x41995a50\n",
       "          iSize : LongStorage - size: 4\n",
       "          convDesc : cdata<struct cudnnConvolutionStruct *[1]>: 0x41e38870\n",
       "          output_offset : 3211264\n",
       "          gradBias : CudaTensor - size: 64\n",
       "          algType : cdata<enum 761 [?]>: 0x40fa16c0\n",
       "          extraBuffer : CudaTensor - empty\n",
       "          extraBufferSizeInBytes : 0\n",
       "          oDescForBias : cdata<struct cudnnTensorStruct *[1]>: 0x41a6cf70\n",
       "          oDesc : cdata<struct cudnnTensorStruct *[1]>: 0x41e52f28\n",
       "          groups : 1\n",
       "          dH : 1\n",
       "          dW : 1\n",
       "          nOutputPlane : 64\n",
       "          padH : 1\n",
       "          kH : 3\n",
       "          weight_offset : 1728\n",
       "          finput : CudaTensor - empty\n",
       "          biasDesc : cdata<struct cudnnTensorStruct *[1]>: 0x4136ba98\n",
       "          input_offset : 150528\n",
       "          weight : CudaTensor - size: 64x3x3x3\n",
       "          train : false\n",
       "          gradWeight : CudaTensor - size: 64x3x3x3\n",
       "          fgradInput : CudaTensor - empty\n",
       "          kW : 3\n",
       "          bias : CudaTensor - size: 64\n",
       "          weightDesc : cdata<struct cudnnFilterStruct *[1]>: 0x41e40bc0\n",
       "        }\n",
       "      2 : \n",
       "        cudnn.ReLU\n",
       "        {\n",
       "          inplace : true\n",
       "          "
      ]
     },
     "execution_count": 10,
     "metadata": {},
     "output_type": "execute_result"
    },
    {
     "data": {
      "text/plain": [
       "mode : CUDNN_ACTIVATION_RELU\n",
       "          train : false\n",
       "          output : CudaTensor - size: 64x224x224\n",
       "          gradInput : CudaTensor - empty\n",
       "          nElem : 3211264\n",
       "          iDesc : cdata<struct cudnnTensorStruct *[1]>: 0x40f9b638\n",
       "        }\n",
       "      3 : \n",
       "        cudnn.SpatialConvolution(64 -> 64, 3x3, 1,1, 1,1)\n",
       "        {\n",
       "          padW : 1\n",
       "          nInputPlane : 64\n",
       "          output : CudaTensor - size: 64x224x224\n",
       "          gradInput : CudaTensor - size: 64x224x224\n",
       "          iDesc : cdata<struct cudnnTensorStruct *[1]>: 0x401dc778\n",
       "          iSize : LongStorage - size: 4\n",
       "          convDesc : cdata<struct cudnnConvolutionStruct *[1]>: 0x4136e4b8\n",
       "          output_offset : 3211264\n",
       "          gradBias : CudaTensor - size: 64\n",
       "          algType : cdata<enum 761 [?]>: 0x401163e8\n",
       "          extraBuffer : CudaTensor - empty\n",
       "          extraBufferSizeInBytes : 0\n",
       "          oDescForBias : cdata<struct cudnnTensorStruct *[1]>: 0x41b6c2d8\n",
       "          oDesc : cdata<struct cudnnTensorStruct *[1]>: 0x41678378\n",
       "          groups : 1\n",
       "          dH : 1\n",
       "          dW : 1\n",
       "          nOutputPlane : 64\n",
       "          padH : 1\n",
       "          kH : 3\n",
       "          weight_offset : 36864\n",
       "          finput : CudaTensor - empty\n",
       "          biasDesc : cdata<struct cudnnTensorStruct *[1]>: 0x41a73888\n",
       "    "
      ]
     },
     "execution_count": 10,
     "metadata": {},
     "output_type": "execute_result"
    },
    {
     "data": {
      "text/plain": [
       "      input_offset : 3211264\n",
       "          weight : CudaTensor - size: 64x64x3x3\n",
       "          train : false\n",
       "          gradWeight : CudaTensor - size: 64x64x3x3\n",
       "          fgradInput : CudaTensor - empty\n",
       "          kW : 3\n",
       "          bias : CudaTensor - size: 64\n",
       "          weightDesc : cdata<struct cudnnFilterStruct *[1]>: 0x40513910\n",
       "        }\n",
       "      4 : \n",
       "        cudnn.ReLU\n",
       "        {\n",
       "          inplace : true\n",
       "          mode : CUDNN_ACTIVATION_RELU\n",
       "          train : false\n",
       "          output : CudaTensor - size: 64x224x224\n",
       "          gradInput : CudaTensor - empty\n",
       "          nElem : 3211264\n",
       "          iDesc : cdata<struct cudnnTensorStruct *[1]>: 0x4133ec20\n",
       "        }\n",
       "      5 : \n",
       "        dcnn.DualSpatialMaxPooling(2,2,2,2)\n",
       "        {\n",
       "          dH : 2\n",
       "          dW : 2\n",
       "          padH : 0\n",
       "          gradInput : CudaTensor - empty\n",
       "          indices : CudaTensor - size: 64x112x112\n",
       "          dualModule : \n",
       "            dcnn.DualSpatialMaxUnpooling\n",
       "            {\n",
       "              gradInput : CudaTensor - empty\n",
       "              dualModule : \n"
      ]
     },
     "execution_count": 10,
     "metadata": {},
     "output_type": "execute_result"
    },
    {
     "data": {
      "text/plain": [
       "                dcnn.DualSpatialMaxPooling(2,2,2,2)\n",
       "                {\n",
       "                  dH : 2\n",
       "                  dW : 2\n",
       "                  padH : 0\n",
       "                  gradInput : CudaTensor - empty\n",
       "                  indices : CudaTensor - size: 64x112x112\n",
       "                  dualModule : dcnn.DualSpatialMaxUnpooling\n",
       "                  kH : 2\n",
       "                  output : CudaTensor - size: 64x112x112\n",
       "                  padW : 0\n",
       "                  kW : 2\n",
       "                }\n",
       "              output : CudaTensor - size: 64x224x224\n",
       "            }\n",
       "          kH : 2\n",
       "          output : CudaTensor - size: 64x112x112\n",
       "          padW : 0\n",
       "          kW : 2\n",
       "        }\n",
       "      6 : \n",
       "        cudnn.SpatialConvolution(64 -> 128, 3x3, 1,1, 1,1)\n",
       "  "
      ]
     },
     "execution_count": 10,
     "metadata": {},
     "output_type": "execute_result"
    },
    {
     "data": {
      "text/plain": [
       "      {\n",
       "          padW : 1\n",
       "          nInputPlane : 64\n",
       "          output : CudaTensor - size: 128x112x112\n",
       "          gradInput : CudaTensor - size: 64x112x112\n",
       "          iDesc : cdata<struct cudnnTensorStruct *[1]>: 0x41368ca8\n",
       "          iSize : LongStorage - size: 4\n",
       "          convDesc : cdata<struct cudnnConvolutionStruct *[1]>: 0x405494e8\n",
       "          output_offset : 1605632\n",
       "          gradBias : CudaTensor - size: 128\n",
       "          algType : cdata<enum 761 [?]>: 0x41b66c18\n",
       "          extraBuffer : CudaTensor - size: 576\n",
       "          extraBufferSizeInBytes : 2304\n",
       "          oDescForBias : cdata<struct cudnnTensorStruct *[1]>: 0x4050d188\n",
       "          oDesc : cdata<struct cudnnTensorStruct *[1]>: 0x4135b0d0\n",
       "          groups : 1\n",
       "          dH : 1\n",
       "          dW : 1\n",
       "          nOutputPlane : 128\n",
       "          padH : 1\n",
       "          kH : 3\n",
       "          weight_offset : 73728\n",
       "          finput : CudaTensor - empty\n",
       "          biasDesc : cdata<struct cudnnTensorStruct *[1]>: 0x41a69448\n",
       "          input_offset : 802816\n",
       "          weight : CudaTensor - size: 128x64x3x3\n",
       "          train : false\n",
       "          gradWeight : CudaTensor - size: 128x64x3x3\n",
       "          fgradInput : CudaTensor - empty\n",
       "    "
      ]
     },
     "execution_count": 10,
     "metadata": {},
     "output_type": "execute_result"
    },
    {
     "data": {
      "text/plain": [
       "      kW : 3\n",
       "          bias : CudaTensor - size: 128\n",
       "          weightDesc : cdata<struct cudnnFilterStruct *[1]>: 0x41e68630\n",
       "        }\n",
       "      7 : \n",
       "        cudnn.ReLU\n",
       "        {\n",
       "          inplace : true\n",
       "          mode : CUDNN_ACTIVATION_RELU\n",
       "          train : false\n",
       "          output : CudaTensor - size: 128x112x112\n",
       "          gradInput : CudaTensor - empty\n",
       "          nElem : 1605632\n",
       "          iDesc : cdata<struct cudnnTensorStruct *[1]>: 0x41e3d260\n",
       "        }\n",
       "      8 : \n",
       "        cudnn.SpatialConvolution(128 -> 128, 3x3, 1,1, 1,1)\n",
       "        {\n",
       "          padW : 1\n",
       "          nInputPlane : 128\n",
       "          output : CudaTensor - size: 128x112x112\n",
       "          gradInput : CudaTensor - size: 128x112x112\n",
       "          iDesc : cdata<struct cudnnTensorStruct *[1]>: 0x41439ca0\n",
       "          iSize : LongStorage - size: 4\n",
       "          convDesc : cdata<struct cudnnConvolutionStruct *[1]>: 0x41b78988\n",
       "          output_offset : 1605632\n",
       "          gradBias : CudaTensor - size: 128\n",
       "          algType : cdata<enum 761 [?]>: 0x41a73188\n",
       "          extraBuffer : CudaTensor - size: 1152\n",
       "          extraBufferSizeInBytes : 4608\n",
       "          oDescForBias : cdata<struct cudnnTensorStruct *[1]>: 0x4199e1d0\n",
       "          oDesc : cdata<struct cudnnTensorStruct *[1]>: 0x41642e70\n"
      ]
     },
     "execution_count": 10,
     "metadata": {},
     "output_type": "execute_result"
    },
    {
     "data": {
      "text/plain": [
       "          groups : 1\n",
       "          dH : 1\n",
       "          dW : 1\n",
       "          nOutputPlane : 128\n",
       "          padH : 1\n",
       "          kH : 3\n",
       "          weight_offset : 147456\n",
       "          finput : CudaTensor - empty\n",
       "          biasDesc : cdata<struct cudnnTensorStruct *[1]>: 0x411ab4f0\n",
       "          input_offset : 1605632\n",
       "          weight : CudaTensor - size: 128x128x3x3\n",
       "          train : false\n",
       "          gradWeight : CudaTensor - size: 128x128x3x3\n",
       "          fgradInput : CudaTensor - empty\n",
       "          kW : 3\n",
       "          bias : CudaTensor - size: 128\n",
       "          weightDesc : cdata<struct cudnnFilterStruct *[1]>: 0x415cd060\n",
       "        }\n",
       "      9 : \n",
       "        cudnn.ReLU\n",
       "        {\n",
       "          inplace : true\n",
       "          mode : CUDNN_ACTIVATION_RELU\n",
       "          train : false\n",
       "          output : CudaTensor - size: 128x112x112\n",
       "          gradInput : CudaTensor - empty\n",
       "          nElem : 1605632\n",
       "          iDesc : cdata<struct cudnnTensorStruct *[1]>: 0x40fa7970\n",
       "        }\n",
       "      10 : \n",
       "        dcnn.DualSpatialMaxPooling(2,2,2,2)\n",
       "        {\n",
       "     "
      ]
     },
     "execution_count": 10,
     "metadata": {},
     "output_type": "execute_result"
    },
    {
     "data": {
      "text/plain": [
       "     dH : 2\n",
       "          dW : 2\n",
       "          padH : 0\n",
       "          gradInput : CudaTensor - empty\n",
       "          indices : CudaTensor - size: 128x56x56\n",
       "          dualModule : \n",
       "            dcnn.DualSpatialMaxUnpooling\n",
       "            {\n",
       "              gradInput : CudaTensor - empty\n",
       "              dualModule : \n",
       "                dcnn.DualSpatialMaxPooling(2,2,2,2)\n",
       "                {\n",
       "                  dH : 2\n",
       "                  dW : 2\n",
       "                  padH : 0\n",
       "                  gradInput : CudaTensor - empty\n",
       "                  indices : CudaTensor - size: 128x56x56\n",
       "                  dualModule : dcnn.DualSpatialMaxUnpooling\n",
       "                  kH : 2\n",
       "                  output : CudaTensor - size: 128x56x56\n",
       "                  padW : 0\n",
       "                  kW : 2\n",
       "                }\n",
       "   "
      ]
     },
     "execution_count": 10,
     "metadata": {},
     "output_type": "execute_result"
    },
    {
     "data": {
      "text/plain": [
       "           output : CudaTensor - size: 128x112x112\n",
       "            }\n",
       "          kH : 2\n",
       "          output : CudaTensor - size: 128x56x56\n",
       "          padW : 0\n",
       "          kW : 2\n",
       "        }\n",
       "      11 : \n",
       "        cudnn.SpatialConvolution(128 -> 256, 3x3, 1,1, 1,1)\n",
       "        {\n",
       "          padW : 1\n",
       "          nInputPlane : 128\n",
       "          output : CudaTensor - size: 256x56x56\n",
       "          gradInput : CudaTensor - size: 128x56x56\n",
       "          iDesc : cdata<struct cudnnTensorStruct *[1]>: 0x41487b60\n",
       "          iSize : LongStorage - size: 4\n",
       "          convDesc : cdata<struct cudnnConvolutionStruct *[1]>: 0x4198b1b0\n",
       "          output_offset : 802816\n",
       "          gradBias : CudaTensor - size: 256\n",
       "          algType : cdata<enum 761 [?]>: 0x41b70010\n",
       "          extraBuffer : CudaTensor - size: 1152\n",
       "          extraBufferSizeInBytes : 4608\n",
       "          oDescForBias : cdata<struct cudnnTensorStruct *[1]>: 0x413479f0\n",
       "          oDesc : cdata<struct cudnnTensorStruct *[1]>: 0x40fa0830\n",
       "          groups : 1\n",
       "          dH : 1\n",
       "          dW : 1\n",
       "          nOutputPlane : 256\n",
       "          padH : 1\n",
       "          kH : 3\n",
       "          weight_offset : 294912\n"
      ]
     },
     "execution_count": 10,
     "metadata": {},
     "output_type": "execute_result"
    },
    {
     "data": {
      "text/plain": [
       "          finput : CudaTensor - empty\n",
       "          biasDesc : cdata<struct cudnnTensorStruct *[1]>: 0x4144df00\n",
       "          input_offset : 401408\n",
       "          weight : CudaTensor - size: 256x128x3x3\n",
       "          train : false\n",
       "          gradWeight : CudaTensor - size: 256x128x3x3\n",
       "          fgradInput : CudaTensor - empty\n",
       "          kW : 3\n",
       "          bias : CudaTensor - size: 256\n",
       "          weightDesc : cdata<struct cudnnFilterStruct *[1]>: 0x4010c170\n",
       "        }\n",
       "      12 : \n",
       "        cudnn.ReLU\n",
       "        {\n",
       "          inplace : true\n",
       "          mode : CUDNN_ACTIVATION_RELU\n",
       "          train : false\n",
       "          output : CudaTensor - size: 256x56x56\n",
       "          gradInput : CudaTensor - empty\n",
       "          nElem : 802816\n",
       "          iDesc : cdata<struct cudnnTensorStruct *[1]>: 0x4147b1e0\n",
       "        }\n",
       "      13 : \n",
       "        cudnn.SpatialConvolution(256 -> 256, 3x3, 1,1, 1,1)\n",
       "        {\n",
       "          padW : 1\n",
       "          nInputPlane : 256\n",
       "          output : CudaTensor - size: 256x56x56\n",
       "          gradInput : CudaTensor - size: 256x56x56\n",
       "     "
      ]
     },
     "execution_count": 10,
     "metadata": {},
     "output_type": "execute_result"
    },
    {
     "data": {
      "text/plain": [
       "     iDesc : cdata<struct cudnnTensorStruct *[1]>: 0x41a68b38\n",
       "          iSize : LongStorage - size: 4\n",
       "          convDesc : cdata<struct cudnnConvolutionStruct *[1]>: 0x415dc7a0\n",
       "          output_offset : 802816\n",
       "          gradBias : CudaTensor - size: 256\n",
       "          algType : cdata<enum 761 [?]>: 0x401dc410\n",
       "          extraBuffer : CudaTensor - size: 2304\n",
       "          extraBufferSizeInBytes : 9216\n",
       "          oDescForBias : cdata<struct cudnnTensorStruct *[1]>: 0x41e5d790\n",
       "          oDesc : cdata<struct cudnnTensorStruct *[1]>: 0x41e545a0\n",
       "          groups : 1\n",
       "          dH : 1\n",
       "          dW : 1\n",
       "          nOutputPlane : 256\n",
       "          padH : 1\n",
       "          kH : 3\n",
       "          weight_offset : 589824\n",
       "          finput : CudaTensor - empty\n",
       "          biasDesc : cdata<struct cudnnTensorStruct *[1]>: 0x416373e8\n",
       "          input_offset : 802816\n",
       "          weight : CudaTensor - size: 256x256x3x3\n",
       "          train : false\n",
       "          gradWeight : CudaTensor - size: 256x256x3x3\n",
       "          fgradInput : CudaTensor - empty\n",
       "          kW : 3\n",
       "          bias : CudaTensor - size: 256\n",
       "          weightDesc : cdata<struct cudnnFilterStruct *[1]>: 0x41a817c0\n",
       "        }\n",
       "      14 : \n",
       "        cudnn.ReLU\n",
       "        {\n",
       "          inplace : true\n",
       "          mode : CUDNN_ACTIVATION_RELU\n",
       "     "
      ]
     },
     "execution_count": 10,
     "metadata": {},
     "output_type": "execute_result"
    },
    {
     "data": {
      "text/plain": [
       "     train : false\n",
       "          output : CudaTensor - size: 256x56x56\n",
       "          gradInput : CudaTensor - empty\n",
       "          nElem : 802816\n",
       "          iDesc : cdata<struct cudnnTensorStruct *[1]>: 0x415c8180\n",
       "        }\n",
       "      15 : \n",
       "        cudnn.SpatialConvolution(256 -> 256, 3x3, 1,1, 1,1)\n",
       "        {\n",
       "          padW : 1\n",
       "          nInputPlane : 256\n",
       "          output : CudaTensor - size: 256x56x56\n",
       "          gradInput : CudaTensor - size: 256x56x56\n",
       "          iDesc : cdata<struct cudnnTensorStruct *[1]>: 0x41b70308\n",
       "          iSize : LongStorage - size: 4\n",
       "          convDesc : cdata<struct cudnnConvolutionStruct *[1]>: 0x4050a8e0\n",
       "          output_offset : 802816\n",
       "          gradBias : CudaTensor - size: 256\n",
       "          algType : cdata<enum 761 [?]>: 0x415d78e0\n",
       "          extraBuffer : CudaTensor - size: 2304\n",
       "          extraBufferSizeInBytes : 9216\n",
       "          oDescForBias : cdata<struct cudnnTensorStruct *[1]>: 0x40fa19a0\n",
       "          oDesc : cdata<struct cudnnTensorStruct *[1]>: 0x41a75278\n",
       "          groups : 1\n",
       "          dH : 1\n",
       "          dW : 1\n",
       "          nOutputPlane : 256\n",
       "          padH : 1\n",
       "          kH : 3\n",
       "          weight_offset : 589824\n",
       "          finput : CudaTensor - empty\n",
       "          biasDesc : cdata<struct cudnnTensorStruct *[1]>: 0x40da1be8\n",
       "          input_offset : 802816\n",
       "          weight : CudaTensor - size: 256x256x3x3\n",
       "          train : false\n"
      ]
     },
     "execution_count": 10,
     "metadata": {},
     "output_type": "execute_result"
    },
    {
     "data": {
      "text/plain": [
       "          gradWeight : CudaTensor - size: 256x256x3x3\n",
       "          fgradInput : CudaTensor - empty\n",
       "          kW : 3\n",
       "          bias : CudaTensor - size: 256\n",
       "          weightDesc : cdata<struct cudnnFilterStruct *[1]>: 0x41b7a770\n",
       "        }\n",
       "      16 : \n",
       "        cudnn.ReLU\n",
       "        {\n",
       "          inplace : true\n",
       "          mode : CUDNN_ACTIVATION_RELU\n",
       "          train : false\n",
       "          output : CudaTensor - size: 256x56x56\n",
       "          gradInput : CudaTensor - empty\n",
       "          nElem : 802816\n",
       "          iDesc : cdata<struct cudnnTensorStruct *[1]>: 0x41e42558\n",
       "        }\n",
       "      17 : \n",
       "        dcnn.DualSpatialMaxPooling(2,2,2,2)\n",
       "        {\n",
       "          dH : 2\n",
       "          dW : 2\n",
       "          padH : 0\n",
       "          gradInput : CudaTensor - empty\n",
       "          indices : CudaTensor - size: 256x28x28\n",
       "          dualModule : \n",
       "            dcnn.DualSpatialMaxUnpooling\n",
       "            {\n",
       "              gradInput : CudaTensor - empty\n",
       "              dualModule : \n",
       "                dcnn.DualSpatialMaxPooling(2,2,2,2)\n",
       "                {\n",
       "                  dH : 2\n",
       "                  dW : 2\n",
       "  "
      ]
     },
     "execution_count": 10,
     "metadata": {},
     "output_type": "execute_result"
    },
    {
     "data": {
      "text/plain": [
       "                padH : 0\n",
       "                  gradInput : CudaTensor - empty\n",
       "                  indices : CudaTensor - size: 256x28x28\n",
       "                  dualModule : dcnn.DualSpatialMaxUnpooling\n",
       "                  kH : 2\n",
       "                  output : CudaTensor - size: 256x28x28\n",
       "                  padW : 0\n",
       "                  kW : 2\n",
       "                }\n",
       "              output : CudaTensor - size: 256x56x56\n",
       "            }\n",
       "          kH : 2\n",
       "          output : CudaTensor - size: 256x28x28\n",
       "          padW : 0\n",
       "          kW : 2\n",
       "        }\n",
       "      18 : \n",
       "        cudnn.SpatialConvolution(256 -> 512, 3x3, 1,1, 1,1)\n",
       "        {\n",
       "          padW : 1\n",
       "          nInputPlane : 256\n",
       "          output : CudaTensor - size: 512x28x28\n",
       "          gradInput : CudaTensor - size: 256x28x28\n",
       "          iDesc : cdata<struct cudnnTensorStruct *[1]>: 0x416302b8\n",
       "          iSize : LongStorage - size: 4\n",
       "          convDesc : cdata<struct cudnnConvolutionStruct *[1]>: 0x41fa37c0\n",
       "          output_offset : 401408\n",
       "          gradBias : CudaTensor - size: 512\n",
       "      "
      ]
     },
     "execution_count": 10,
     "metadata": {},
     "output_type": "execute_result"
    },
    {
     "data": {
      "text/plain": [
       "    algType : cdata<enum 761 [?]>: 0x40fabe78\n",
       "          extraBuffer : CudaTensor - size: 2304\n",
       "          extraBufferSizeInBytes : 9216\n",
       "          oDescForBias : cdata<struct cudnnTensorStruct *[1]>: 0x41e68b28\n",
       "          oDesc : cdata<struct cudnnTensorStruct *[1]>: 0x41b77e58\n",
       "          groups : 1\n",
       "          dH : 1\n",
       "          dW : 1\n",
       "          nOutputPlane : 512\n",
       "          padH : 1\n",
       "          kH : 3\n",
       "          weight_offset : 1179648\n",
       "          finput : CudaTensor - empty\n",
       "          biasDesc : cdata<struct cudnnTensorStruct *[1]>: 0x411b18b8\n",
       "          input_offset : 200704\n",
       "          weight : CudaTensor - size: 512x256x3x3\n",
       "          train : false\n",
       "          gradWeight : CudaTensor - size: 512x256x3x3\n",
       "          fgradInput : CudaTensor - empty\n",
       "          kW : 3\n",
       "          bias : CudaTensor - size: 512\n",
       "          weightDesc : cdata<struct cudnnFilterStruct *[1]>: 0x41a6a240\n",
       "        }\n",
       "      19 : \n",
       "        cudnn.ReLU\n",
       "        {\n",
       "          inplace : true\n",
       "          mode : CUDNN_ACTIVATION_RELU\n",
       "          train : false\n",
       "          output : CudaTensor - size: 512x28x28\n",
       "          gradInput : CudaTensor - empty\n",
       "          nElem : 401408\n",
       "          iDesc : cdata<struct cudnnTensorStruct *[1]>: 0x4147e410\n",
       "        }\n",
       "      20 : \n",
       "        cudnn.SpatialConvolution(512 -> 512, 3x3, 1,1, 1,1)\n",
       "        {\n",
       "  "
      ]
     },
     "execution_count": 10,
     "metadata": {},
     "output_type": "execute_result"
    },
    {
     "data": {
      "text/plain": [
       "        padW : 1\n",
       "          nInputPlane : 512\n",
       "          output : CudaTensor - size: 512x28x28\n",
       "          gradInput : CudaTensor - size: 512x28x28\n",
       "          iDesc : cdata<struct cudnnTensorStruct *[1]>: 0x4199dee8\n",
       "          iSize : LongStorage - size: 4\n",
       "          convDesc : cdata<struct cudnnConvolutionStruct *[1]>: 0x41375248\n",
       "          output_offset : 401408\n",
       "          gradBias : CudaTensor - size: 512\n",
       "          algType : cdata<enum 761 [?]>: 0x41989958\n",
       "          extraBuffer : CudaTensor - size: 4608\n",
       "          extraBufferSizeInBytes : 18432\n",
       "          oDescForBias : cdata<struct cudnnTensorStruct *[1]>: 0x4144db90\n",
       "          oDesc : cdata<struct cudnnTensorStruct *[1]>: 0x414422b8\n",
       "          groups : 1\n",
       "          dH : 1\n",
       "          dW : 1\n",
       "          nOutputPlane : 512\n",
       "          padH : 1\n",
       "          kH : 3\n",
       "          weight_offset : 2359296\n",
       "          finput : CudaTensor - empty\n",
       "          biasDesc : cdata<struct cudnnTensorStruct *[1]>: 0x41b77b38\n",
       "          input_offset : 401408\n",
       "          weight : CudaTensor - size: 512x512x3x3\n",
       "          train : false\n",
       "          gradWeight : CudaTensor - size: 512x512x3x3\n",
       "          fgradInput : CudaTensor - empty\n",
       "          kW : 3\n",
       "          bias : CudaTensor - size: 512\n",
       "          weightDesc : cdata<struct cudnnFilterStruct *[1]>: 0x411bd1c0\n",
       "        }\n",
       "      21 : \n",
       "        cudnn.ReLU\n",
       "        {\n",
       "   "
      ]
     },
     "execution_count": 10,
     "metadata": {},
     "output_type": "execute_result"
    },
    {
     "data": {
      "text/plain": [
       "       inplace : true\n",
       "          mode : CUDNN_ACTIVATION_RELU\n",
       "          train : false\n",
       "          output : CudaTensor - size: 512x28x28\n",
       "          gradInput : CudaTensor - empty\n",
       "          nElem : 401408\n",
       "          iDesc : cdata<struct cudnnTensorStruct *[1]>: 0x415d8f88\n",
       "        }\n",
       "      22 : \n",
       "        cudnn.SpatialConvolution(512 -> 512, 3x3, 1,1, 1,1)\n",
       "        {\n",
       "          padW : 1\n",
       "          nInputPlane : 512\n",
       "          output : CudaTensor - size: 512x28x28\n",
       "          gradInput : CudaTensor - size: 512x28x28\n",
       "          iDesc : cdata<struct cudnnTensorStruct *[1]>: 0x41f9ef60\n",
       "          iSize : LongStorage - size: 4\n",
       "          convDesc : cdata<struct cudnnConvolutionStruct *[1]>: 0x41636618\n",
       "          output_offset : 401408\n",
       "          gradBias : CudaTensor - size: 512\n",
       "          algType : cdata<enum 761 [?]>: 0x41a72af8\n",
       "          extraBuffer : CudaTensor - size: 4608\n",
       "          extraBufferSizeInBytes : 18432\n",
       "          oDescForBias : cdata<struct cudnnTensorStruct *[1]>: 0x4163dd80\n",
       "          oDesc : cdata<struct cudnnTensorStruct *[1]>: 0x41e51b00\n",
       "          groups : 1\n",
       "          dH : 1\n",
       "          dW : 1\n",
       "          nOutputPlane : 512\n",
       "          padH : 1\n",
       "          kH : 3\n",
       "          weight_offset : 2359296\n",
       "          finput : CudaTensor - empty\n",
       "          biasDesc : cdata<struct cudnnTensorStruct *[1]>: 0x40f9ffd0\n",
       "  "
      ]
     },
     "execution_count": 10,
     "metadata": {},
     "output_type": "execute_result"
    },
    {
     "data": {
      "text/plain": [
       "        input_offset : 401408\n",
       "          weight : CudaTensor - size: 512x512x3x3\n",
       "          train : false\n",
       "          gradWeight : CudaTensor - size: 512x512x3x3\n",
       "          fgradInput : CudaTensor - empty\n",
       "          kW : 3\n",
       "          bias : CudaTensor - size: 512\n",
       "          weightDesc : cdata<struct cudnnFilterStruct *[1]>: 0x40fa9b60\n",
       "        }\n",
       "      23 : \n",
       "        cudnn.ReLU\n",
       "        {\n",
       "          inplace : true\n",
       "          mode : CUDNN_ACTIVATION_RELU\n",
       "          train : false\n",
       "          output : CudaTensor - size: 512x28x28\n",
       "          gradInput : CudaTensor - empty\n",
       "          nElem : 401408\n",
       "          iDesc : cdata<struct cudnnTensorStruct *[1]>: 0x416431a0\n",
       "        }\n",
       "      24 : \n",
       "        dcnn.DualSpatialMaxPooling(2,2,2,2)\n",
       "        {\n",
       "          dH : 2\n",
       "          dW : 2\n",
       "          padH : 0\n",
       "          gradInput : CudaTensor - empty\n",
       "          indices : CudaTensor - size: 512x14x14\n",
       "          dualModule : \n",
       "            dcnn.DualSpatialMaxUnpooling\n",
       "            {\n",
       "              gradInput : CudaTensor - empty\n",
       "              dualModule : \n",
       "                dcnn.DualSpatialMaxPooling(2,2,2,2)\n",
       "                {\n",
       "   "
      ]
     },
     "execution_count": 10,
     "metadata": {},
     "output_type": "execute_result"
    },
    {
     "data": {
      "text/plain": [
       "               dH : 2\n",
       "                  dW : 2\n",
       "                  padH : 0\n",
       "                  gradInput : CudaTensor - empty\n",
       "                  indices : CudaTensor - size: 512x14x14\n",
       "                  dualModule : dcnn.DualSpatialMaxUnpooling\n",
       "                  kH : 2\n",
       "                  output : CudaTensor - size: 512x14x14\n",
       "                  padW : 0\n",
       "                  kW : 2\n",
       "                }\n",
       "              output : CudaTensor - size: 512x28x28\n",
       "            }\n",
       "          kH : 2\n",
       "          output : CudaTensor - size: 512x14x14\n",
       "          padW : 0\n",
       "          kW : 2\n",
       "        }\n",
       "      25 : \n",
       "        cudnn.SpatialConvolution(512 -> 512, 3x3, 1,1, 1,1)\n",
       "        {\n",
       "          padW : 1\n",
       "          nInputPlane : 512\n",
       "          output : CudaTensor - size: 512x14x14\n",
       "          gradInput : CudaTensor - size: 512x14x14\n",
       "          iDesc : cdata<struct cudnnTensorStruct *[1]>: 0x401f5df8\n",
       "          iSize : LongStorage - size: 4\n",
       "          convDesc : cdata<struct cudnnConvolutionStruct *[1]>: 0x41369590\n"
      ]
     },
     "execution_count": 10,
     "metadata": {},
     "output_type": "execute_result"
    },
    {
     "data": {
      "text/plain": [
       "          output_offset : 100352\n",
       "          gradBias : CudaTensor - size: 512\n",
       "          algType : cdata<enum 761 [?]>: 0x41fa3308\n",
       "          extraBuffer : CudaTensor - size: 4608\n",
       "          extraBufferSizeInBytes : 18432\n",
       "          oDescForBias : cdata<struct cudnnTensorStruct *[1]>: 0x41e513c0\n",
       "          oDesc : cdata<struct cudnnTensorStruct *[1]>: 0x41371930\n",
       "          groups : 1\n",
       "          dH : 1\n",
       "          dW : 1\n",
       "          nOutputPlane : 512\n",
       "          padH : 1\n",
       "          kH : 3\n",
       "          weight_offset : 2359296\n",
       "          finput : CudaTensor - empty\n",
       "          biasDesc : cdata<struct cudnnTensorStruct *[1]>: 0x401245c0\n",
       "          input_offset : 100352\n",
       "          weight : CudaTensor - size: 512x512x3x3\n",
       "          train : false\n",
       "          gradWeight : CudaTensor - size: 512x512x3x3\n",
       "          fgradInput : CudaTensor - empty\n",
       "          kW : 3\n",
       "          bias : CudaTensor - size: 512\n",
       "          weightDesc : cdata<struct cudnnFilterStruct *[1]>: 0x41f97dc0\n",
       "        }\n",
       "      26 : \n",
       "        cudnn.ReLU\n",
       "        {\n",
       "          inplace : true\n",
       "          mode : CUDNN_ACTIVATION_RELU\n",
       "          train : false\n",
       "          output : CudaTensor - size: 512x14x14\n",
       "          gradInput : CudaTensor - empty\n",
       "     "
      ]
     },
     "execution_count": 10,
     "metadata": {},
     "output_type": "execute_result"
    },
    {
     "data": {
      "text/plain": [
       "     nElem : 100352\n",
       "          iDesc : cdata<struct cudnnTensorStruct *[1]>: 0x41b5e830\n",
       "        }\n",
       "      27 : \n",
       "        cudnn.SpatialConvolution(512 -> 512, 3x3, 1,1, 1,1)\n",
       "        {\n",
       "          padW : 1\n",
       "          nInputPlane : 512\n",
       "          output : CudaTensor - size: 512x14x14\n",
       "          gradInput : CudaTensor - size: 512x14x14\n",
       "          iDesc : cdata<struct cudnnTensorStruct *[1]>: 0x41a756f8\n",
       "          iSize : LongStorage - size: 4\n",
       "          convDesc : cdata<struct cudnnConvolutionStruct *[1]>: 0x41a84dc0\n",
       "          output_offset : 100352\n",
       "          gradBias : CudaTensor - size: 512\n",
       "          algType : cdata<enum 761 [?]>: 0x401dcb98\n",
       "          extraBuffer : CudaTensor - size: 4608\n",
       "          extraBufferSizeInBytes : 18432\n",
       "          oDescForBias : cdata<struct cudnnTensorStruct *[1]>: 0x41e55008\n",
       "          oDesc : cdata<struct cudnnTensorStruct *[1]>: 0x4163cf28\n",
       "          groups : 1\n",
       "          dH : 1\n",
       "          dW : 1\n",
       "          nOutputPlane : 512\n",
       "          padH : 1\n",
       "          kH : 3\n",
       "          weight_offset : 2359296\n",
       "          finput : CudaTensor - empty\n",
       "          biasDesc : cdata<struct cudnnTensorStruct *[1]>: 0x40fa84d8\n",
       "          input_offset : 100352\n",
       "          weight : CudaTensor - size: 512x512x3x3\n",
       "          train : false\n",
       "          gradWeight : CudaTensor - size: 512x512x3x3\n",
       "          fgradInput : CudaTensor - empty\n",
       "          kW : 3\n",
       "          bias : CudaTensor - size: 512\n",
       "      "
      ]
     },
     "execution_count": 10,
     "metadata": {},
     "output_type": "execute_result"
    },
    {
     "data": {
      "text/plain": [
       "    weightDesc : cdata<struct cudnnFilterStruct *[1]>: 0x417d34d8\n",
       "        }\n",
       "      28 : \n",
       "        cudnn.ReLU\n",
       "        {\n",
       "          inplace : true\n",
       "          mode : CUDNN_ACTIVATION_RELU\n",
       "          train : false\n",
       "          output : CudaTensor - size: 512x14x14\n",
       "          gradInput : CudaTensor - empty\n",
       "          nElem : 100352\n",
       "          iDesc : cdata<struct cudnnTensorStruct *[1]>: 0x41346f10\n",
       "        }\n",
       "      29 : \n",
       "        cudnn.SpatialConvolution(512 -> 512, 3x3, 1,1, 1,1)\n",
       "        {\n",
       "          padW : 1\n",
       "          nInputPlane : 512\n",
       "          output : CudaTensor - size: 512x14x14\n",
       "          gradInput : CudaTensor - size: 512x14x14\n",
       "          iDesc : cdata<struct cudnnTensorStruct *[1]>: 0x41634aa8\n",
       "          iSize : LongStorage - size: 4\n",
       "          convDesc : cdata<struct cudnnConvolutionStruct *[1]>: 0x4011e530\n",
       "          output_offset : 100352\n",
       "          gradBias : CudaTensor - size: 512\n",
       "          algType : cdata<enum 761 [?]>: 0x4162d1f0\n",
       "          extraBuffer : CudaTensor - size: 4608\n",
       "          extraBufferSizeInBytes : 18432\n",
       "          oDescForBias : cdata<struct cudnnTensorStruct *[1]>: 0x4050baf0\n",
       "          oDesc : cdata<struct cudnnTensorStruct *[1]>: 0x40fa6a58\n",
       "          groups : 1\n",
       "          dH : 1\n",
       "          dW : 1\n",
       "          nOutputPlane : 512\n",
       "          padH : 1\n",
       "          kH : 3\n",
       "          weight_offset : 2359296\n",
       "          finput : CudaTensor - empty\n"
      ]
     },
     "execution_count": 10,
     "metadata": {},
     "output_type": "execute_result"
    },
    {
     "data": {
      "text/plain": [
       "          biasDesc : cdata<struct cudnnTensorStruct *[1]>: 0x4147bad8\n",
       "          input_offset : 100352\n",
       "          weight : CudaTensor - size: 512x512x3x3\n",
       "          train : false\n",
       "          gradWeight : CudaTensor - size: 512x512x3x3\n",
       "          fgradInput : CudaTensor - empty\n",
       "          kW : 3\n",
       "          bias : CudaTensor - size: 512\n",
       "          weightDesc : cdata<struct cudnnFilterStruct *[1]>: 0x41a84008\n",
       "        }\n",
       "      30 : \n",
       "        cudnn.ReLU\n",
       "        {\n",
       "          inplace : true\n",
       "          mode : CUDNN_ACTIVATION_RELU\n",
       "          train : false\n",
       "          output : CudaTensor - size: 512x14x14\n",
       "          gradInput : CudaTensor - empty\n",
       "          nElem : 100352\n",
       "          iDesc : cdata<struct cudnnTensorStruct *[1]>: 0x40115210\n",
       "        }\n",
       "      31 : \n",
       "        dcnn.DualSpatialMaxPooling(2,2,2,2)\n",
       "        {\n",
       "          dH : 2\n",
       "          dW : 2\n",
       "          padH : 0\n",
       "          gradInput : CudaTensor - empty\n",
       "          indices : CudaTensor - size: 512x7x7\n",
       "          dualModule : \n",
       "            dcnn.DualSpatialMaxUnpooling\n",
       "            {\n",
       "              gradInput : CudaTensor - empty\n",
       "              dualModule : \n",
       "                dcnn.DualSpatialMaxPooling(2,2,2,2)\n",
       "                {\n",
       "        "
      ]
     },
     "execution_count": 10,
     "metadata": {},
     "output_type": "execute_result"
    },
    {
     "data": {
      "text/plain": [
       "          dH : 2\n",
       "                  dW : 2\n",
       "                  padH : 0\n",
       "                  gradInput : CudaTensor - empty\n",
       "                  indices : CudaTensor - size: 512x7x7\n",
       "                  dualModule : dcnn.DualSpatialMaxUnpooling\n",
       "                  kH : 2\n",
       "                  output : CudaTensor - size: 512x7x7\n",
       "                  padW : 0\n",
       "                  kW : 2\n",
       "                }\n",
       "              output : CudaTensor - size: 512x14x14\n",
       "            }\n",
       "          kH : 2\n",
       "          output : CudaTensor - size: 512x7x7\n",
       "          padW : 0\n",
       "          kW : 2\n",
       "        }\n",
       "      32 : \n",
       "        nn.View\n",
       "        {\n",
       "          train : false\n",
       "          output : CudaTensor - size: 25088\n",
       "          numInputDims : 3\n",
       "          size : LongStorage - size: 1\n",
       "          numElements : 1\n",
       "        }\n",
       "      33 : \n",
       "        nn.Linear(25088 -> 4096)\n",
       "        {\n",
       "          gradBias : CudaTensor - size: 4096\n"
      ]
     },
     "execution_count": 10,
     "metadata": {},
     "output_type": "execute_result"
    },
    {
     "data": {
      "text/plain": [
       "          weight : CudaTensor - size: 4096x25088\n",
       "          train : false\n",
       "          bias : CudaTensor - size: 4096\n",
       "          gradInput : CudaTensor - empty\n",
       "          gradWeight : CudaTensor - size: 4096x25088\n",
       "          output : CudaTensor - size: 4096\n",
       "        }\n",
       "      34 : \n",
       "        cudnn.ReLU\n",
       "        {\n",
       "          inplace : true\n",
       "          mode : CUDNN_ACTIVATION_RELU\n",
       "          train : false\n",
       "          output : CudaTensor - size: 4096\n",
       "          gradInput : CudaTensor - empty\n",
       "          nElem : 4096\n",
       "          iDesc : cdata<struct cudnnTensorStruct *[1]>: 0x41372488\n",
       "        }\n",
       "      35 : \n",
       "        nn.Dropout(0.500000)\n",
       "        {\n",
       "          v2 : true\n",
       "          noise : CudaTensor - empty\n",
       "          train : false\n",
       "          p : 0.5\n",
       "          gradInput : CudaTensor - empty\n",
       "          output : CudaTensor - size: 4096\n",
       "        }\n",
       "      36 : \n",
       "        nn.Linear(4096 -> 4096)\n",
       "        {\n",
       "          gradBias : CudaTensor - size: 4096\n",
       "          weight : CudaTensor - size: 4096x4096\n",
       "          train : false\n",
       "          bias : CudaTensor - size: 4096\n",
       "         "
      ]
     },
     "execution_count": 10,
     "metadata": {},
     "output_type": "execute_result"
    },
    {
     "data": {
      "text/plain": [
       " gradInput : CudaTensor - empty\n",
       "          gradWeight : CudaTensor - size: 4096x4096\n",
       "          output : CudaTensor - size: 4096\n",
       "        }\n",
       "      37 : \n",
       "        cudnn.ReLU\n",
       "        {\n",
       "          inplace : true\n",
       "          mode : CUDNN_ACTIVATION_RELU\n",
       "          train : false\n",
       "          output : CudaTensor - size: 4096\n",
       "          gradInput : CudaTensor - empty\n",
       "          nElem : 4096\n",
       "          iDesc : cdata<struct cudnnTensorStruct *[1]>: 0x41fa2e28\n",
       "        }\n",
       "      38 : \n",
       "        nn.Dropout(0.500000)\n",
       "        {\n",
       "          v2 : true\n",
       "          noise : CudaTensor - empty\n",
       "          train : false\n",
       "          p : 0.5\n",
       "          gradInput : CudaTensor - empty\n",
       "          output : CudaTensor - size: 4096\n",
       "        }\n",
       "      39 : \n",
       "        nn.Linear(4096 -> 1000)\n",
       "        {\n",
       "          gradBias : CudaTensor - size: 1000\n",
       "          weight : CudaTensor - size: 1000x4096\n",
       "          train : false\n",
       "          bias : CudaTensor - size: 1000\n",
       "          gradInput : CudaTensor - empty\n",
       "          gradWeight : CudaTensor - size: 1000x4096\n",
       "          output : CudaTensor - size: 1000\n",
       "        }\n",
       "     "
      ]
     },
     "execution_count": 10,
     "metadata": {},
     "output_type": "execute_result"
    },
    {
     "data": {
      "text/plain": [
       " 40 : \n",
       "        nn.SoftMax\n",
       "        {\n",
       "          gradInput : CudaTensor - empty\n",
       "          train : false\n",
       "          output : CudaTensor - size: 1000\n",
       "        }\n",
       "    }\n",
       "  train : false\n",
       "  output : CudaTensor - size: 1000\n",
       "}\n"
      ]
     },
     "execution_count": 10,
     "metadata": {},
     "output_type": "execute_result"
    }
   ],
   "source": [
    "net"
   ]
  },
  {
   "cell_type": "code",
   "execution_count": null,
   "metadata": {
    "collapsed": true
   },
   "outputs": [],
   "source": []
  }
 ],
 "metadata": {
  "kernelspec": {
   "display_name": "iTorch",
   "language": "lua",
   "name": "itorch"
  },
  "language_info": {
   "name": "lua",
   "version": "20100"
  }
 },
 "nbformat": 4,
 "nbformat_minor": 0
}
