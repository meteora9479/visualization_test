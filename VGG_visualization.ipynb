{
 "cells": [
  {
   "cell_type": "code",
   "execution_count": 1,
   "metadata": {
    "collapsed": false
   },
   "outputs": [
    {
     "data": {
      "text/plain": [
       "==> Loading network\t\n"
      ]
     },
     "execution_count": 1,
     "metadata": {},
     "output_type": "execute_result"
    },
    {
     "data": {
      "text/plain": [
       "Successfully loaded /usr/local/data/CaffeZoo/VGG_ILSVRC_16_layers/VGG_ILSVRC_16_layers.caffemodel\n"
      ]
     },
     "execution_count": 1,
     "metadata": {},
     "output_type": "execute_result"
    },
    {
     "data": {
      "text/plain": [
       "conv1_1: 64 3 3 3\n",
       "conv1_2: 64 64 3 3\n",
       "conv2_1: 128 64 3 3\n",
       "conv2_2: 128 128 3 3\n",
       "conv3_1: 256 128 3 3\n"
      ]
     },
     "execution_count": 1,
     "metadata": {},
     "output_type": "execute_result"
    },
    {
     "data": {
      "text/plain": [
       "conv3_2: 256 256 3 3\n"
      ]
     },
     "execution_count": 1,
     "metadata": {},
     "output_type": "execute_result"
    },
    {
     "data": {
      "text/plain": [
       "conv3_3: 256 256 3 3\n",
       "conv4_1: 512 256 3 3\n"
      ]
     },
     "execution_count": 1,
     "metadata": {},
     "output_type": "execute_result"
    },
    {
     "data": {
      "text/plain": [
       "conv4_2: 512 512 3 3\n"
      ]
     },
     "execution_count": 1,
     "metadata": {},
     "output_type": "execute_result"
    },
    {
     "data": {
      "text/plain": [
       "conv4_3: 512 512 3 3\n"
      ]
     },
     "execution_count": 1,
     "metadata": {},
     "output_type": "execute_result"
    },
    {
     "data": {
      "text/plain": [
       "conv5_1: 512 512 3 3\n"
      ]
     },
     "execution_count": 1,
     "metadata": {},
     "output_type": "execute_result"
    },
    {
     "data": {
      "text/plain": [
       "conv5_2: 512 512 3 3\n"
      ]
     },
     "execution_count": 1,
     "metadata": {},
     "output_type": "execute_result"
    },
    {
     "data": {
      "text/plain": [
       "conv5_3: 512 512 3 3\n"
      ]
     },
     "execution_count": 1,
     "metadata": {},
     "output_type": "execute_result"
    },
    {
     "data": {
      "text/plain": [
       "fc6: 1 1 25088 4096\n"
      ]
     },
     "execution_count": 1,
     "metadata": {},
     "output_type": "execute_result"
    },
    {
     "data": {
      "text/plain": [
       "fc7: 1 1 4096 4096\n"
      ]
     },
     "execution_count": 1,
     "metadata": {},
     "output_type": "execute_result"
    },
    {
     "data": {
      "text/plain": [
       "fc8: 1 1 4096 1000\n"
      ]
     },
     "execution_count": 1,
     "metadata": {},
     "output_type": "execute_result"
    },
    {
     "data": {
      "text/plain": [
       "==> Loading synsets\t\n",
       "==> Loading image and imagenet mean\t\n"
      ]
     },
     "execution_count": 1,
     "metadata": {},
     "output_type": "execute_result"
    },
    {
     "data": {
      "text/plain": [
       "==> Preprocessing\t\n"
      ]
     },
     "execution_count": 1,
     "metadata": {},
     "output_type": "execute_result"
    },
    {
     "data": {
      "text/plain": [
       "predicted class 1: \tgoldfish, Carassius auratus\t\n",
       "predicted class 2: \ttench, Tinca tinca\t\n",
       "predicted class 3: \tgar, garfish, garpike, billfish, Lepisosteus osseus\t\n",
       "predicted class 4: \tcoho, cohoe, coho salmon, blue jack, silver salmon, Oncorhynchus kisutch\t\n",
       "predicted class 5: \tcoral reef\t\n"
      ]
     },
     "execution_count": 1,
     "metadata": {},
     "output_type": "execute_result"
    }
   ],
   "source": [
    "require 'loadcaffe'\n",
    "require 'inn'\n",
    "require 'image'\n",
    "require 'dcnn'\n",
    "\n",
    "-- Loads the mapping from net outputs to human readable labels\n",
    "function load_synset()\n",
    "  local file = io.open 'synset_words.txt'\n",
    "  local list = {}\n",
    "  while true do\n",
    "    local line = file:read()\n",
    "    if not line then break end\n",
    "    table.insert(list, string.sub(line,11))\n",
    "  end\n",
    "  return list\n",
    "end\n",
    "\n",
    "-- Converts an image from RGB to BGR format and subtracts mean\n",
    "function preprocess(im, img_mean)\n",
    "  -- rescale the image\n",
    "  local im3 = image.scale(im,224,224,'bilinear')*255\n",
    "  -- RGB2BGR\n",
    "  local im4 = im3:clone()\n",
    "  im4[{1,{},{}}] = im3[{3,{},{}}]\n",
    "  im4[{3,{},{}}] = im3[{1,{},{}}]\n",
    "\n",
    "  -- subtract imagenet mean\n",
    "  return im4 - image.scale(img_mean, 224, 224, 'bilinear')\n",
    "end\n",
    "\n",
    "-- Setting up networks \n",
    "print '==> Loading network'\n",
    "\n",
    "prototxt_name = '/usr/local/data/CaffeZoo/VGG_ILSVRC_16_layers/VGG_ILSVRC_16_layers_deploy.prototxt'\n",
    "binary_name = '/usr/local/data/CaffeZoo/VGG_ILSVRC_16_layers/VGG_ILSVRC_16_layers.caffemodel'\n",
    "\n",
    "net = loadcaffe.load(prototxt_name, binary_name, 'cudnn')\n",
    "\n",
    "net:cuda()\n",
    "-- as we want to classify, let's disable dropouts by enabling evaluation mode\n",
    "net:evaluate()\n",
    "\n",
    "print '==> Loading synsets'\n",
    "synset_words = load_synset()\n",
    "\n",
    "print '==> Loading image and imagenet mean'\n",
    "image_name = 'Goldfish3.jpg'\n",
    "--image_name = 'lena.jpg'\n",
    "--image_name='people.jpg'\n",
    "img_mean_name = 'ilsvrc_2012_mean.t7'\n",
    "\n",
    "im = image.load(image_name)\n",
    "img_mean = torch.load(img_mean_name).img_mean:transpose(3,1)\n",
    "\n",
    "-- Have to resize and convert from RGB to BGR and subtract mean\n",
    "print '==> Preprocessing'\n",
    "I = preprocess(im, img_mean)\n",
    "\n",
    "\n",
    "-- Replace pooling by dual pooling\n",
    "unpooling_layers = dcnn:ReplaceDualPoolingModule(net)\n",
    "\n",
    "_,classes = net:forward(I:cuda()):view(-1):float():sort(true)\n",
    "\n",
    "for i=1,5 do\n",
    "  print('predicted class '..tostring(i)..': ', synset_words[classes[i] ])\n",
    "end"
   ]
  },
  {
   "cell_type": "code",
   "execution_count": 2,
   "metadata": {
    "collapsed": false
   },
   "outputs": [
    {
     "data": {
      "text/plain": [
       "nn.Sequential {\n",
       "  [input -> (1) -> (2) -> (3) -> (4) -> (5) -> (6) -> (7) -> (8) -> (9) -> (10) -> (11) -> (12) -> (13) -> (14) -> (15) -> (16) -> (17) -> (18) -> (19) -> (20) -> (21) -> (22) -> (23) -> (24) -> (25) -> (26) -> (27) -> (28) -> (29) -> (30) -> (31) -> (32) -> (33) -> (34) -> (35) -> (36) -> (37) -> (38) -> (39) -> (40) -> output]\n",
       "  (1): cudnn.SpatialConvolution(3 -> 64, 3x3, 1,1, 1,1)\n",
       "  (2): cudnn.ReLU\n",
       "  (3): cudnn.SpatialConvolution(64 -> 64, 3x3, 1,1, 1,1)\n",
       "  (4): cudnn.ReLU\n",
       "  (5): dcnn.DualSpatialMaxPooling(2,2,2,2)\n",
       "  (6): cudnn.SpatialConvolution(64 -> 128, 3x3, 1,1, 1,1)\n",
       "  (7): cudnn.ReLU\n",
       "  (8): cudnn.SpatialConvolution(128 -> 128, 3x3, 1,1, 1,1)\n",
       "  (9): cudnn.ReLU\n",
       "  (10): dcnn.DualSpatialMaxPooling(2,2,2,2)\n",
       "  (11): cudnn.SpatialConvolution(128 -> 256, 3x3, 1,1, 1,1)\n",
       "  (12): cudnn.ReLU\n",
       "  (13): cudnn.SpatialConvolution(256 -> 256, 3x3, 1,1, 1,1)\n",
       "  (14): cudnn.ReLU\n",
       "  (15): cudnn.SpatialConvolution(256 -> 256, 3x3, 1,1, 1,1)\n",
       "  (16): cudnn.ReLU\n",
       "  (17): dcnn.DualSpatialMaxPooling(2,2,2,2)\n",
       "  (18): cudnn.SpatialConvolution(256 -> 512, 3x3, 1,1, 1,1)\n",
       "  (19): cudnn.ReLU\n",
       "  (20): cudnn.SpatialConvolution(512 -> 512, 3x3, 1,1, 1,1)\n",
       "  (21): cudnn.ReLU\n",
       "  (22): cudnn.SpatialConvolution(512 -> 512, 3x3, 1,1, 1,1)\n",
       "  (23): cudnn.ReLU\n",
       "  (24): dcnn.DualSpatialMaxPooling(2,2,2,2)\n",
       "  (25): cudnn.SpatialConvolution(512 -> 512, 3x3, 1,1, 1,1)\n",
       "  (26): cudnn.ReLU\n",
       "  (27): cudnn.SpatialConvolution(512 -> 512, 3x3, 1,1, 1,1)\n",
       "  (28): cudnn.ReLU\n",
       "  (29): cudnn.SpatialConvolution(512 -> 512, 3x3, 1,1, 1,1)\n",
       "  (30): cudnn.ReLU\n",
       "  (31): dcnn.DualSpatialMaxPooling(2,2,2,2)\n",
       "  (32): nn.View\n",
       "  (33): nn.Linear(25088 -> 4096)\n",
       "  (34): cudnn.ReLU\n",
       "  (35): nn.Dropout(0.500000)\n",
       "  (36): nn.Linear(4096 -> 4096)\n",
       "  (37): cudnn.ReLU\n",
       "  (38): nn.Dropout(0.500000)\n",
       "  (39): nn.Linear(4096 -> 1000)\n",
       "  (40): nn.SoftMax\n",
       "}\n",
       "{\n",
       "  gradInput : CudaTensor - empty\n",
       "  modules : \n",
       "    {\n",
       " "
      ]
     },
     "execution_count": 2,
     "metadata": {},
     "output_type": "execute_result"
    },
    {
     "data": {
      "text/plain": [
       "     1 : \n",
       "        cudnn.SpatialConvolution(3 -> 64, 3x3, 1,1, 1,1)\n",
       "        {\n",
       "          padW : 1\n",
       "          nInputPlane : 3\n",
       "          output : CudaTensor - size: 64x224x224\n",
       "          gradInput : CudaTensor - size: 3x224x224\n",
       "          iDesc : cdata<struct cudnnTensorStruct *[1]>: 0x40b1aff8\n",
       "          iSize : LongStorage - size: 4\n",
       "          convDesc : cdata<struct cudnnConvolutionStruct *[1]>: 0x40b09668\n",
       "          output_offset : 3211264\n",
       "          gradBias : CudaTensor - size: 64\n",
       "          algType : cdata<enum 852 [?]>: 0x40e8ab60\n",
       "          extraBuffer : CudaTensor - empty\n",
       "          extraBufferSizeInBytes : 0\n",
       "          oDescForBias : cdata<struct cudnnTensorStruct *[1]>: 0x41102088\n",
       "          oDesc : cdata<struct cudnnTensorStruct *[1]>: 0x40e7f768\n",
       "          groups : 1\n",
       "          dH : 1\n",
       "          dW : 1\n",
       "          nOutputPlane : 64\n",
       "          padH : 1\n",
       "          kH : 3\n",
       "          weight_offset : 1728\n",
       "          finput : CudaTensor - empty\n",
       "          biasDesc : cdata<struct cudnnTensorStruct *[1]>: 0x40b1f0d8\n",
       "          input_offset : 150528\n",
       "          weight : CudaTensor - size: 64x3x3x3\n",
       "          "
      ]
     },
     "execution_count": 2,
     "metadata": {},
     "output_type": "execute_result"
    },
    {
     "data": {
      "text/plain": [
       "train : false\n",
       "          gradWeight : CudaTensor - size: 64x3x3x3\n",
       "          fgradInput : CudaTensor - empty\n",
       "          kW : 3\n",
       "          bias : CudaTensor - size: 64\n",
       "          weightDesc : cdata<struct cudnnFilterStruct *[1]>: 0x41b600a8\n",
       "        }\n",
       "      2 : \n",
       "        cudnn.ReLU\n",
       "        {\n",
       "          inplace : true\n",
       "          mode : CUDNN_ACTIVATION_RELU\n",
       "          train : false\n",
       "          output : CudaTensor - size: 64x224x224\n",
       "          gradInput : CudaTensor - empty\n",
       "          nElem : 3211264\n",
       "          iDesc : cdata<struct cudnnTensorStruct *[1]>: 0x40edd6a8\n",
       "        }\n",
       "      3 : \n",
       "        cudnn.SpatialConvolution(64 -> 64, 3x3, 1,1, 1,1)\n",
       "        {\n",
       "          padW : 1\n",
       "          nInputPlane : 64\n",
       "          output : CudaTensor - size: 64x224x224\n",
       "          gradInput : CudaTensor - size: 64x224x224\n",
       "          iDesc : cdata<struct cudnnTensorStruct *[1]>: 0x4072d158\n",
       "          iSize : LongStorage - size: 4\n",
       "          convDesc : cdata<struct cudnnConvolutionStruct *[1]>: 0x407351c0\n",
       "          output_offset : 3211264\n",
       "          gradBias : CudaTensor - size: 64\n",
       "          algType : cdata<enum 852 [?]>: 0x41e5dac8\n",
       "          extraBuffer : CudaTensor - empty\n",
       "          extraBufferSizeInBytes : 0\n",
       "          oDescForBias : cdata<struct cudnnTensorStruct *[1]>: 0x40e6e9a8\n"
      ]
     },
     "execution_count": 2,
     "metadata": {},
     "output_type": "execute_result"
    },
    {
     "data": {
      "text/plain": [
       "          oDesc : cdata<struct cudnnTensorStruct *[1]>: 0x40e52a40\n",
       "          groups : 1\n",
       "          dH : 1\n",
       "          dW : 1\n",
       "          nOutputPlane : 64\n",
       "          padH : 1\n",
       "          kH : 3\n",
       "          weight_offset : 36864\n",
       "          finput : CudaTensor - empty\n",
       "          biasDesc : cdata<struct cudnnTensorStruct *[1]>: 0x41f35be8\n",
       "          input_offset : 3211264\n",
       "          weight : CudaTensor - size: 64x64x3x3\n",
       "          train : false\n",
       "          gradWeight : CudaTensor - size: 64x64x3x3\n",
       "          fgradInput : CudaTensor - empty\n",
       "          kW : 3\n",
       "          bias : CudaTensor - size: 64\n",
       "          weightDesc : cdata<struct cudnnFilterStruct *[1]>: 0x41e5dfc8\n",
       "        }\n",
       "      4 : \n",
       "        cudnn.ReLU\n",
       "        {\n",
       "          inplace : true\n",
       "          mode : CUDNN_ACTIVATION_RELU\n",
       "          train : false\n",
       "          output : CudaTensor - size: 64x224x224\n",
       "          gradInput : CudaTensor - empty\n",
       "          nElem : 3211264\n",
       "          iDesc : cdata<struct cudnnTensorStruct *[1]>: 0x40e8fb10\n",
       "        }\n",
       "      5 : \n",
       "        dcnn.DualSpatialMaxPooling(2,2,2,2)\n",
       "        {\n",
       "          dH : 2\n",
       "          dW : 2\n",
       "          padH : 0\n"
      ]
     },
     "execution_count": 2,
     "metadata": {},
     "output_type": "execute_result"
    },
    {
     "data": {
      "text/plain": [
       "          gradInput : CudaTensor - empty\n",
       "          indices : CudaTensor - size: 64x112x112\n",
       "          dualModule : \n",
       "            dcnn.DualSpatialMaxUnpooling\n",
       "            {\n",
       "              gradInput : CudaTensor - empty\n",
       "              dualModule : \n",
       "                dcnn.DualSpatialMaxPooling(2,2,2,2)\n",
       "                {\n",
       "                  dH : 2\n",
       "                  dW : 2\n",
       "                  padH : 0\n",
       "                  gradInput : CudaTensor - empty\n",
       "                  indices : CudaTensor - size: 64x112x112\n",
       "                  dualModule : dcnn.DualSpatialMaxUnpooling\n",
       "                  kH : 2\n",
       "                  output : CudaTensor - size: 64x112x112\n",
       "                  padW : 0\n",
       "                  kW : 2\n",
       "                }\n",
       "              output : CudaTensor - size: 64x224x224\n",
       "            }\n",
       "          kH : 2\n",
       "          output : CudaTensor - size: 64x112x112\n",
       "          padW : 0\n",
       "          kW : 2\n",
       "        }\n",
       "      6 : "
      ]
     },
     "execution_count": 2,
     "metadata": {},
     "output_type": "execute_result"
    },
    {
     "data": {
      "text/plain": [
       "\n",
       "        cudnn.SpatialConvolution(64 -> 128, 3x3, 1,1, 1,1)\n",
       "        {\n",
       "          padW : 1\n",
       "          nInputPlane : 64\n",
       "          output : CudaTensor - size: 128x112x112\n",
       "          gradInput : CudaTensor - size: 64x112x112\n",
       "          iDesc : cdata<struct cudnnTensorStruct *[1]>: 0x41e626d8\n",
       "          iSize : LongStorage - size: 4\n",
       "          convDesc : cdata<struct cudnnConvolutionStruct *[1]>: 0x41fe37c0\n",
       "          output_offset : 1605632\n",
       "          gradBias : CudaTensor - size: 128\n",
       "          algType : cdata<enum 852 [?]>: 0x41773730\n",
       "          extraBuffer : CudaTensor - size: 576\n",
       "          extraBufferSizeInBytes : 2304\n",
       "          oDescForBias : cdata<struct cudnnTensorStruct *[1]>: 0x41f422d8\n",
       "          oDesc : cdata<struct cudnnTensorStruct *[1]>: 0x41f39170\n",
       "          groups : 1\n",
       "          dH : 1\n",
       "          dW : 1\n",
       "          nOutputPlane : 128\n",
       "          padH : 1\n",
       "          kH : 3\n",
       "          weight_offset : 73728\n",
       "          finput : CudaTensor - empty\n",
       "          biasDesc : cdata<struct cudnnTensorStruct *[1]>: 0x407f9fb8\n",
       "          input_offset : 802816\n",
       "          weight : CudaTensor - size: 128x64x3x3\n",
       "          train : false\n",
       "          gradWeight : CudaTensor - size: 128x64x3x3\n",
       "          fgradInput : CudaTensor - empty\n",
       "          kW : 3\n",
       "          bias : CudaTensor - size: 128\n",
       "          weightDesc : cdata<struct cudnnFilterStruct *[1]>: 0x40e73720\n",
       "        "
      ]
     },
     "execution_count": 2,
     "metadata": {},
     "output_type": "execute_result"
    },
    {
     "data": {
      "text/plain": [
       "}\n",
       "      7 : \n",
       "        cudnn.ReLU\n",
       "        {\n",
       "          inplace : true\n",
       "          mode : CUDNN_ACTIVATION_RELU\n",
       "          train : false\n",
       "          output : CudaTensor - size: 128x112x112\n",
       "          gradInput : CudaTensor - empty\n",
       "          nElem : 1605632\n",
       "          iDesc : cdata<struct cudnnTensorStruct *[1]>: 0x40e8fb50\n",
       "        }\n",
       "      8 : \n",
       "        cudnn.SpatialConvolution(128 -> 128, 3x3, 1,1, 1,1)\n",
       "        {\n",
       "          padW : 1\n",
       "          nInputPlane : 128\n",
       "          output : CudaTensor - size: 128x112x112\n",
       "          gradInput : CudaTensor - size: 128x112x112\n",
       "          iDesc : cdata<struct cudnnTensorStruct *[1]>: 0x40be8ab8\n",
       "          iSize : LongStorage - size: 4\n",
       "          convDesc : cdata<struct cudnnConvolutionStruct *[1]>: 0x407ec8c8\n",
       "          output_offset : 1605632\n",
       "          gradBias : CudaTensor - size: 128\n",
       "          algType : cdata<enum 852 [?]>: 0x4177ecb0\n",
       "          extraBuffer : CudaTensor - size: 1152\n",
       "          extraBufferSizeInBytes : 4608\n",
       "          oDescForBias : cdata<struct cudnnTensorStruct *[1]>: 0x40edb848\n",
       "          oDesc : cdata<struct cudnnTensorStruct *[1]>: 0x41662220\n",
       "          groups : 1\n",
       "          dH : 1\n",
       "          dW : 1\n",
       "          nOutputPlane : 128\n",
       "          padH : 1\n",
       "          kH : 3\n",
       "          weight_offset : 147456\n",
       "          finput : CudaTensor - empty\n",
       "          biasDesc : cdata<struct cudnnTensorStruct *[1]>: 0x40b0fca0"
      ]
     },
     "execution_count": 2,
     "metadata": {},
     "output_type": "execute_result"
    },
    {
     "data": {
      "text/plain": [
       "\n",
       "          input_offset : 1605632\n",
       "          weight : CudaTensor - size: 128x128x3x3\n",
       "          train : false\n",
       "          gradWeight : CudaTensor - size: 128x128x3x3\n",
       "          fgradInput : CudaTensor - empty\n",
       "          kW : 3\n",
       "          bias : CudaTensor - size: 128\n",
       "          weightDesc : cdata<struct cudnnFilterStruct *[1]>: 0x407ecd00\n",
       "        }\n",
       "      9 : \n",
       "        cudnn.ReLU\n",
       "        {\n",
       "          inplace : true\n",
       "          mode : CUDNN_ACTIVATION_RELU\n",
       "          train : false\n",
       "          output : CudaTensor - size: 128x112x112\n",
       "          gradInput : CudaTensor - empty\n",
       "          nElem : 1605632\n",
       "          iDesc : cdata<struct cudnnTensorStruct *[1]>: 0x407e6c38\n",
       "        }\n",
       "      10 : \n",
       "        dcnn.DualSpatialMaxPooling(2,2,2,2)\n",
       "        {\n",
       "          dH : 2\n",
       "          dW : 2\n",
       "          padH : 0\n",
       "          gradInput : CudaTensor - empty\n",
       "          indices : CudaTensor - size: 128x56x56\n",
       "          dualModule : \n",
       "            dcnn.DualSpatialMaxUnpooling\n",
       "            {\n",
       "              gradInput : CudaTensor - empty\n",
       "              dualModule : \n",
       "                dcnn.DualSpatialMaxPooling(2,2,2,2)\n",
       "                {\n",
       "             "
      ]
     },
     "execution_count": 2,
     "metadata": {},
     "output_type": "execute_result"
    },
    {
     "data": {
      "text/plain": [
       "     dH : 2\n",
       "                  dW : 2\n",
       "                  padH : 0\n",
       "                  gradInput : CudaTensor - empty\n",
       "                  indices : CudaTensor - size: 128x56x56\n",
       "                  dualModule : dcnn.DualSpatialMaxUnpooling\n",
       "                  kH : 2\n",
       "                  output : CudaTensor - size: 128x56x56\n",
       "                  padW : 0\n",
       "                  kW : 2\n",
       "                }\n",
       "              output : CudaTensor - size: 128x112x112\n",
       "            }\n",
       "          kH : 2\n",
       "          output : CudaTensor - size: 128x56x56\n",
       "          padW : 0\n",
       "          kW : 2\n",
       "        }\n",
       "      11 : \n",
       "        cudnn.SpatialConvolution(128 -> 256, 3x3, 1,1, 1,1)\n",
       "        {\n",
       "          padW : 1\n",
       "          nInputPlane : 128\n",
       "          output : CudaTensor - size: 256x56x56\n",
       "          gradInput : CudaTensor - size: 128x56x56\n",
       "          iDesc : cdata<struct cudnnTensorStruct *[1]>: 0x41f42cf8\n",
       "          iSize : LongStorage - size: 4\n",
       "          convDesc : cdata<struct cudnnConvolutionStruct *[1]>: 0x406d30a0\n",
       "          output_offset : 802816\n",
       "          gradBias : CudaTensor - size: 256\n"
      ]
     },
     "execution_count": 2,
     "metadata": {},
     "output_type": "execute_result"
    },
    {
     "data": {
      "text/plain": [
       "          algType : cdata<enum 852 [?]>: 0x41e6d370\n",
       "          extraBuffer : CudaTensor - size: 1152\n",
       "          extraBufferSizeInBytes : 4608\n",
       "          oDescForBias : cdata<struct cudnnTensorStruct *[1]>: 0x40b172f8\n",
       "          oDesc : cdata<struct cudnnTensorStruct *[1]>: 0x40e6d948\n",
       "          groups : 1\n",
       "          dH : 1\n",
       "          dW : 1\n",
       "          nOutputPlane : 256\n",
       "          padH : 1\n",
       "          kH : 3\n",
       "          weight_offset : 294912\n",
       "          finput : CudaTensor - empty\n",
       "          biasDesc : cdata<struct cudnnTensorStruct *[1]>: 0x41ac0878\n",
       "          input_offset : 401408\n",
       "          weight : CudaTensor - size: 256x128x3x3\n",
       "          train : false\n",
       "          gradWeight : CudaTensor - size: 256x128x3x3\n",
       "          fgradInput : CudaTensor - empty\n",
       "          kW : 3\n",
       "          bias : CudaTensor - size: 256\n",
       "          weightDesc : cdata<struct cudnnFilterStruct *[1]>: 0x40ed5e70\n",
       "        }\n",
       "      12 : \n",
       "        cudnn.ReLU\n",
       "        {\n",
       "          inplace : true\n",
       "          mode : CUDNN_ACTIVATION_RELU\n",
       "          train : false\n",
       "          output : CudaTensor - size: 256x56x56\n",
       "          gradInput : CudaTensor - empty\n",
       "          nElem : 802816\n",
       "          iDesc : cdata<struct cudnnTensorStruct *[1]>: 0x40b1ff98\n",
       "        }\n",
       "      13 : \n",
       " "
      ]
     },
     "execution_count": 2,
     "metadata": {},
     "output_type": "execute_result"
    },
    {
     "data": {
      "text/plain": [
       "       cudnn.SpatialConvolution(256 -> 256, 3x3, 1,1, 1,1)\n",
       "        {\n",
       "          padW : 1\n",
       "          nInputPlane : 256\n",
       "          output : CudaTensor - size: 256x56x56\n",
       "          gradInput : CudaTensor - size: 256x56x56\n",
       "          iDesc : cdata<struct cudnnTensorStruct *[1]>: 0x41abd5a8\n",
       "          iSize : LongStorage - size: 4\n",
       "          convDesc : cdata<struct cudnnConvolutionStruct *[1]>: 0x407ee628\n",
       "          output_offset : 802816\n",
       "          gradBias : CudaTensor - size: 256\n",
       "          algType : cdata<enum 852 [?]>: 0x4072d4e8\n",
       "          extraBuffer : CudaTensor - size: 2304\n",
       "          extraBufferSizeInBytes : 9216\n",
       "          oDescForBias : cdata<struct cudnnTensorStruct *[1]>: 0x40ec1950\n",
       "          oDesc : cdata<struct cudnnTensorStruct *[1]>: 0x407f1ba0\n",
       "          groups : 1\n",
       "          dH : 1\n",
       "          dW : 1\n",
       "          nOutputPlane : 256\n",
       "          padH : 1\n",
       "          kH : 3\n",
       "          weight_offset : 589824\n",
       "          finput : CudaTensor - empty\n",
       "          biasDesc : cdata<struct cudnnTensorStruct *[1]>: 0x418517f0\n",
       "          input_offset : 802816\n",
       "          weight : CudaTensor - size: 256x256x3x3\n",
       "          train : false\n",
       "          gradWeight : CudaTensor - size: 256x256x3x3\n",
       "          fgradInput : CudaTensor - empty\n",
       "          kW : 3\n",
       "          bias : CudaTensor - size: 256\n",
       "          weightDesc : cdata<struct cudnnFilterStruct *[1]>: 0x407e3c78\n",
       "        }\n",
       "      14 : \n",
       "        cudnn.ReLU\n",
       "        {\n",
       "          inplace : true\n",
       "          mode : CUDNN_ACTIVATION_RELU\n",
       "  "
      ]
     },
     "execution_count": 2,
     "metadata": {},
     "output_type": "execute_result"
    },
    {
     "data": {
      "text/plain": [
       "        train : false\n",
       "          output : CudaTensor - size: 256x56x56\n",
       "          gradInput : CudaTensor - empty\n",
       "          nElem : 802816\n",
       "          iDesc : cdata<struct cudnnTensorStruct *[1]>: 0x40e55058\n",
       "        }\n",
       "      15 : \n",
       "        cudnn.SpatialConvolution(256 -> 256, 3x3, 1,1, 1,1)\n",
       "        {\n",
       "          padW : 1\n",
       "          nInputPlane : 256\n",
       "          output : CudaTensor - size: 256x56x56\n",
       "          gradInput : CudaTensor - size: 256x56x56\n",
       "          iDesc : cdata<struct cudnnTensorStruct *[1]>: 0x40747bb0\n",
       "          iSize : LongStorage - size: 4\n",
       "          convDesc : cdata<struct cudnnConvolutionStruct *[1]>: 0x40be5a38\n",
       "          output_offset : 802816\n",
       "          gradBias : CudaTensor - size: 256\n",
       "          algType : cdata<enum 852 [?]>: 0x40740020\n",
       "          extraBuffer : CudaTensor - size: 2304\n",
       "          extraBufferSizeInBytes : 9216\n",
       "          oDescForBias : cdata<struct cudnnTensorStruct *[1]>: 0x40be9488\n",
       "          oDesc : cdata<struct cudnnTensorStruct *[1]>: 0x41e5e0c0\n",
       "          groups : 1\n",
       "          dH : 1\n",
       "          dW : 1\n",
       "          nOutputPlane : 256\n",
       "          padH : 1\n",
       "          kH : 3\n",
       "          weight_offset : 589824\n",
       "          finput : CudaTensor - empty\n",
       "          biasDesc : cdata<struct cudnnTensorStruct *[1]>: 0x41f463b8\n",
       "          input_offset : 802816\n",
       "          weight : CudaTensor - size: 256x256x3x3\n",
       "          train : false\n",
       "          gradWeight : CudaTensor - size: 256x256x3x3\n",
       "          fgradInput : CudaTensor - empty\n",
       "          kW : 3\n",
       "          bias : CudaTensor - size: 256\n",
       "     "
      ]
     },
     "execution_count": 2,
     "metadata": {},
     "output_type": "execute_result"
    },
    {
     "data": {
      "text/plain": [
       "     weightDesc : cdata<struct cudnnFilterStruct *[1]>: 0x40e86168\n",
       "        }\n",
       "      16 : \n",
       "        cudnn.ReLU\n",
       "        {\n",
       "          inplace : true\n",
       "          mode : CUDNN_ACTIVATION_RELU\n",
       "          train : false\n",
       "          output : CudaTensor - size: 256x56x56\n",
       "          gradInput : CudaTensor - empty\n",
       "          nElem : 802816\n",
       "          iDesc : cdata<struct cudnnTensorStruct *[1]>: 0x416636b8\n",
       "        }\n",
       "      17 : \n",
       "        dcnn.DualSpatialMaxPooling(2,2,2,2)\n",
       "        {\n",
       "          dH : 2\n",
       "          dW : 2\n",
       "          padH : 0\n",
       "          gradInput : CudaTensor - empty\n",
       "          indices : CudaTensor - size: 256x28x28\n",
       "          dualModule : \n",
       "            dcnn.DualSpatialMaxUnpooling\n",
       "            {\n",
       "              gradInput : CudaTensor - empty\n",
       "              dualModule : \n",
       "                dcnn.DualSpatialMaxPooling(2,2,2,2)\n",
       "                {\n",
       "                  dH : 2\n",
       "                  dW : 2\n",
       "                  padH : 0\n",
       "                  gradInput : CudaTensor - empty\n",
       "                  indices : CudaTensor - size: 256x28x28\n",
       "                  dualModule : dcnn.DualSpatialMaxUnpooling\n",
       "                  kH : 2\n",
       "    "
      ]
     },
     "execution_count": 2,
     "metadata": {},
     "output_type": "execute_result"
    },
    {
     "data": {
      "text/plain": [
       "              output : CudaTensor - size: 256x28x28\n",
       "                  padW : 0\n",
       "                  kW : 2\n",
       "                }\n",
       "              output : CudaTensor - size: 256x56x56\n",
       "            }\n",
       "          kH : 2\n",
       "          output : CudaTensor - size: 256x28x28\n",
       "          padW : 0\n",
       "          kW : 2\n",
       "        }\n",
       "      18 : \n",
       "        cudnn.SpatialConvolution(256 -> 512, 3x3, 1,1, 1,1)\n",
       "        {\n",
       "          padW : 1\n",
       "          nInputPlane : 256\n",
       "          output : CudaTensor - size: 512x28x28\n",
       "          gradInput : CudaTensor - size: 256x28x28\n",
       "          iDesc : cdata<struct cudnnTensorStruct *[1]>: 0x41f41398\n",
       "          iSize : LongStorage - size: 4\n",
       "          convDesc : cdata<struct cudnnConvolutionStruct *[1]>: 0x41662028\n",
       "          output_offset : 401408\n",
       "          gradBias : CudaTensor - size: 512\n",
       "          algType : cdata<enum 852 [?]>: 0x40ecf690\n",
       "          extraBuffer : CudaTensor - size: 2304\n",
       "          extraBufferSizeInBytes : 9216\n",
       "          oDescForBias : cdata<struct cudnnTensorStruct *[1]>: 0x40ec6988\n",
       "          oDesc : cdata<struct cudnnTensorStruct *[1]>: 0x40ec00d8\n",
       "          groups : 1\n",
       "          dH : 1\n",
       "          dW : 1\n",
       "          nOutputPlane : 512\n",
       "          padH : 1\n",
       "          kH : 3\n",
       "          weight_offset : 1179648\n",
       "          finput : CudaTensor - empty\n",
       "          "
      ]
     },
     "execution_count": 2,
     "metadata": {},
     "output_type": "execute_result"
    },
    {
     "data": {
      "text/plain": [
       "biasDesc : cdata<struct cudnnTensorStruct *[1]>: 0x407dfb58\n",
       "          input_offset : 200704\n",
       "          weight : CudaTensor - size: 512x256x3x3\n",
       "          train : false\n",
       "          gradWeight : CudaTensor - size: 512x256x3x3\n",
       "          fgradInput : CudaTensor - empty\n",
       "          kW : 3\n",
       "          bias : CudaTensor - size: 512\n",
       "          weightDesc : cdata<struct cudnnFilterStruct *[1]>: 0x41f2f750\n",
       "        }\n",
       "      19 : \n",
       "        cudnn.ReLU\n",
       "        {\n",
       "          inplace : true\n",
       "          mode : CUDNN_ACTIVATION_RELU\n",
       "          train : false\n",
       "          output : CudaTensor - size: 512x28x28\n",
       "          gradInput : CudaTensor - empty\n",
       "          nElem : 401408\n",
       "          iDesc : cdata<struct cudnnTensorStruct *[1]>: 0x40ed9ea0\n",
       "        }\n",
       "      20 : \n",
       "        cudnn.SpatialConvolution(512 -> 512, 3x3, 1,1, 1,1)\n",
       "        {\n",
       "          padW : 1\n",
       "          nInputPlane : 512\n",
       "          output : CudaTensor - size: 512x28x28\n",
       "          gradInput : CudaTensor - size: 512x28x28\n",
       "          iDesc : cdata<struct cudnnTensorStruct *[1]>: 0x407451d0\n",
       "          iSize : LongStorage - size: 4\n",
       "          convDesc : cdata<struct cudnnConvolutionStruct *[1]>: 0x41abef98\n",
       "          output_offset : 401408\n",
       "          gradBias : CudaTensor - size: 512\n",
       "          algType : cdata<enum 852 [?]>: 0x40e7eda8\n",
       "          extraBuffer : CudaTensor - size: 4608\n",
       "          extraBufferSizeInBytes : 18432\n",
       "          oDescForBias : cdata<struct cudnnTensorStruct *[1]>: 0x41f371f0\n",
       "          oDesc : cdata<struct cudnnTensorStruct *[1]>: 0x407e12c0\n",
       "          groups : 1\n",
       "          dH : 1\n",
       "          dW : 1\n",
       "          nOutputPlane : 512\n",
       "   "
      ]
     },
     "execution_count": 2,
     "metadata": {},
     "output_type": "execute_result"
    },
    {
     "data": {
      "text/plain": [
       "       padH : 1\n",
       "          kH : 3\n",
       "          weight_offset : 2359296\n",
       "          finput : CudaTensor - empty\n",
       "          biasDesc : cdata<struct cudnnTensorStruct *[1]>: 0x4073d130\n",
       "          input_offset : 401408\n",
       "          weight : CudaTensor - size: 512x512x3x3\n",
       "          train : false\n",
       "          gradWeight : CudaTensor - size: 512x512x3x3\n",
       "          fgradInput : CudaTensor - empty\n",
       "          kW : 3\n",
       "          bias : CudaTensor - size: 512\n",
       "          weightDesc : cdata<struct cudnnFilterStruct *[1]>: 0x4073b9d0\n",
       "        }\n",
       "      21 : \n",
       "        cudnn.ReLU\n",
       "        {\n",
       "          inplace : true\n",
       "          mode : CUDNN_ACTIVATION_RELU\n",
       "          train : false\n",
       "          output : CudaTensor - size: 512x28x28\n",
       "          gradInput : CudaTensor - empty\n",
       "          nElem : 401408\n",
       "          iDesc : cdata<struct cudnnTensorStruct *[1]>: 0x406bdbe0\n",
       "        }\n",
       "      22 : \n",
       "        cudnn.SpatialConvolution(512 -> 512, 3x3, 1,1, 1,1)\n",
       "        {\n",
       "          padW : 1\n",
       "          nInputPlane : 512\n",
       "          output : CudaTensor - size: 512x28x28\n",
       "          gradInput : CudaTensor - size: 512x28x28\n",
       "          iDesc : cdata<struct cudnnTensorStruct *[1]>: 0x41ab9668\n",
       "          iSize : LongStorage - size: 4\n",
       "          convDesc : cdata<struct cudnnConvolutionStruct *[1]>: 0x411023b0\n",
       "          output_offset : 401408\n",
       "          gradBias : CudaTensor - size: 512\n",
       "          algType : cdata<enum 852 [?]>: 0x407e5100\n",
       "          extraBuffer : CudaTensor - size: 4608\n",
       "  "
      ]
     },
     "execution_count": 2,
     "metadata": {},
     "output_type": "execute_result"
    },
    {
     "data": {
      "text/plain": [
       "        extraBufferSizeInBytes : 18432\n",
       "          oDescForBias : cdata<struct cudnnTensorStruct *[1]>: 0x407e8bc8\n",
       "          oDesc : cdata<struct cudnnTensorStruct *[1]>: 0x40734268\n",
       "          groups : 1\n",
       "          dH : 1\n",
       "          dW : 1\n",
       "          nOutputPlane : 512\n",
       "          padH : 1\n",
       "          kH : 3\n",
       "          weight_offset : 2359296\n",
       "          finput : CudaTensor - empty\n",
       "          biasDesc : cdata<struct cudnnTensorStruct *[1]>: 0x4098b520\n",
       "          input_offset : 401408\n",
       "          weight : CudaTensor - size: 512x512x3x3\n",
       "          train : false\n",
       "          gradWeight : CudaTensor - size: 512x512x3x3\n",
       "          fgradInput : CudaTensor - empty\n",
       "          kW : 3\n",
       "          bias : CudaTensor - size: 512\n",
       "          weightDesc : cdata<struct cudnnFilterStruct *[1]>: 0x4099e2f8\n",
       "        }\n",
       "      23 : \n",
       "        cudnn.ReLU\n",
       "        {\n",
       "          inplace : true\n",
       "          mode : CUDNN_ACTIVATION_RELU\n",
       "          train : false\n",
       "          output : CudaTensor - size: 512x28x28\n",
       "          gradInput : CudaTensor - empty\n",
       "          nElem : 401408\n",
       "          iDesc : cdata<struct cudnnTensorStruct *[1]>: 0x4165ff18\n",
       "        }\n",
       "      24 : \n",
       "        dcnn.DualSpatialMaxPooling(2,2,2,2)\n",
       "        {\n",
       "          dH : 2\n",
       "          dW : 2\n",
       "          padH : 0\n",
       "          gradInput : CudaTensor - empty"
      ]
     },
     "execution_count": 2,
     "metadata": {},
     "output_type": "execute_result"
    },
    {
     "data": {
      "text/plain": [
       "\n",
       "          indices : CudaTensor - size: 512x14x14\n",
       "          dualModule : \n",
       "            dcnn.DualSpatialMaxUnpooling\n",
       "            {\n",
       "              gradInput : CudaTensor - empty\n",
       "              dualModule : \n",
       "                dcnn.DualSpatialMaxPooling(2,2,2,2)\n",
       "                {\n",
       "                  dH : 2\n",
       "                  dW : 2\n",
       "                  padH : 0\n",
       "                  gradInput : CudaTensor - empty\n",
       "                  indices : CudaTensor - size: 512x14x14\n",
       "                  dualModule : dcnn.DualSpatialMaxUnpooling\n",
       "                  kH : 2\n",
       "                  output : CudaTensor - size: 512x14x14\n",
       "                  padW : 0\n",
       "                  kW : 2\n",
       "                }\n",
       "              output : CudaTensor - size: 512x28x28\n",
       "            }\n",
       "          kH : 2\n",
       "          output : CudaTensor - size: 512x14x14\n",
       "          padW : 0\n",
       "          kW : 2\n",
       "        }\n",
       "      25 : \n",
       "        cudnn.SpatialConvolution(512 -> 512, 3x3, 1,1, 1,1)\n",
       "        {\n",
       "          padW : 1\n",
       "          nInputPlane : 512\n"
      ]
     },
     "execution_count": 2,
     "metadata": {},
     "output_type": "execute_result"
    },
    {
     "data": {
      "text/plain": [
       "          output : CudaTensor - size: 512x14x14\n",
       "          gradInput : CudaTensor - size: 512x14x14\n",
       "          iDesc : cdata<struct cudnnTensorStruct *[1]>: 0x40e7fb88\n",
       "          iSize : LongStorage - size: 4\n",
       "          convDesc : cdata<struct cudnnConvolutionStruct *[1]>: 0x407f4c98\n",
       "          output_offset : 100352\n",
       "          gradBias : CudaTensor - size: 512\n",
       "          algType : cdata<enum 852 [?]>: 0x407f82a8\n",
       "          extraBuffer : CudaTensor - size: 4608\n",
       "          extraBufferSizeInBytes : 18432\n",
       "          oDescForBias : cdata<struct cudnnTensorStruct *[1]>: 0x40b118a8\n",
       "          oDesc : cdata<struct cudnnTensorStruct *[1]>: 0x407ec5b8\n",
       "          groups : 1\n",
       "          dH : 1\n",
       "          dW : 1\n",
       "          nOutputPlane : 512\n",
       "          padH : 1\n",
       "          kH : 3\n",
       "          weight_offset : 2359296\n",
       "          finput : CudaTensor - empty\n",
       "          biasDesc : cdata<struct cudnnTensorStruct *[1]>: 0x41fe2a08\n",
       "          input_offset : 100352\n",
       "          weight : CudaTensor - size: 512x512x3x3\n",
       "          train : false\n",
       "          gradWeight : CudaTensor - size: 512x512x3x3\n",
       "          fgradInput : CudaTensor - empty\n",
       "          kW : 3\n",
       "          bias : CudaTensor - size: 512\n",
       "          weightDesc : cdata<struct cudnnFilterStruct *[1]>: 0x40ed8f00\n",
       "        }\n",
       "      26 : \n",
       "        cudnn.ReLU\n",
       "        {\n",
       "          inplace : true\n",
       "          mode : CUDNN_ACTIVATION_RELU\n",
       "          train : false\n",
       "          output : CudaTensor - size: 512x14x14\n",
       " "
      ]
     },
     "execution_count": 2,
     "metadata": {},
     "output_type": "execute_result"
    },
    {
     "data": {
      "text/plain": [
       "         gradInput : CudaTensor - empty\n",
       "          nElem : 100352\n",
       "          iDesc : cdata<struct cudnnTensorStruct *[1]>: 0x407f6680\n",
       "        }\n",
       "      27 : \n",
       "        cudnn.SpatialConvolution(512 -> 512, 3x3, 1,1, 1,1)\n",
       "        {\n",
       "          padW : 1\n",
       "          nInputPlane : 512\n",
       "          output : CudaTensor - size: 512x14x14\n",
       "          gradInput : CudaTensor - size: 512x14x14\n",
       "          iDesc : cdata<struct cudnnTensorStruct *[1]>: 0x41f33270\n",
       "          iSize : LongStorage - size: 4\n",
       "          convDesc : cdata<struct cudnnConvolutionStruct *[1]>: 0x40e863f0\n",
       "          output_offset : 100352\n",
       "          gradBias : CudaTensor - size: 512\n",
       "          algType : cdata<enum 852 [?]>: 0x418499a8\n",
       "          extraBuffer : CudaTensor - size: 4608\n",
       "          extraBufferSizeInBytes : 18432\n",
       "          oDescForBias : cdata<struct cudnnTensorStruct *[1]>: 0x41b5dfe0\n",
       "          oDesc : cdata<struct cudnnTensorStruct *[1]>: 0x40be8808\n",
       "          groups : 1\n",
       "          dH : 1\n",
       "          dW : 1\n",
       "          nOutputPlane : 512\n",
       "          padH : 1\n",
       "          kH : 3\n",
       "          weight_offset : 2359296\n",
       "          finput : CudaTensor - empty\n",
       "          biasDesc : cdata<struct cudnnTensorStruct *[1]>: 0x41b62940\n",
       "          input_offset : 100352\n",
       "          weight : CudaTensor - size: 512x512x3x3\n",
       "          train : false\n",
       "          gradWeight : CudaTensor - size: 512x512x3x3\n",
       "          fgradInput : CudaTensor - empty\n",
       "          kW : 3\n",
       "          bias : CudaTensor - size: 512\n",
       "          weightDesc : cdata<struct cudnnFilterStruct *[1]>: 0x407eae28\n",
       "        }\n",
       "      28 : \n",
       "        cudnn.ReLU\n",
       "        {\n",
       "        "
      ]
     },
     "execution_count": 2,
     "metadata": {},
     "output_type": "execute_result"
    },
    {
     "data": {
      "text/plain": [
       "  inplace : true\n",
       "          mode : CUDNN_ACTIVATION_RELU\n",
       "          train : false\n",
       "          output : CudaTensor - size: 512x14x14\n",
       "          gradInput : CudaTensor - empty\n",
       "          nElem : 100352\n",
       "          iDesc : cdata<struct cudnnTensorStruct *[1]>: 0x41103918\n",
       "        }\n",
       "      29 : \n",
       "        cudnn.SpatialConvolution(512 -> 512, 3x3, 1,1, 1,1)\n",
       "        {\n",
       "          padW : 1\n",
       "          nInputPlane : 512\n",
       "          output : CudaTensor - size: 512x14x14\n",
       "          gradInput : CudaTensor - size: 512x14x14\n",
       "          iDesc : cdata<struct cudnnTensorStruct *[1]>: 0x41662d88\n",
       "          iSize : LongStorage - size: 4\n",
       "          convDesc : cdata<struct cudnnConvolutionStruct *[1]>: 0x406d5ff0\n",
       "          output_offset : 100352\n",
       "          gradBias : CudaTensor - size: 512\n",
       "          algType : cdata<enum 852 [?]>: 0x40bf2c90\n",
       "          extraBuffer : CudaTensor - size: 4608\n",
       "          extraBufferSizeInBytes : 18432\n",
       "          oDescForBias : cdata<struct cudnnTensorStruct *[1]>: 0x410f76d0\n",
       "          oDesc : cdata<struct cudnnTensorStruct *[1]>: 0x41b5dd00\n",
       "          groups : 1\n",
       "          dH : 1\n",
       "          dW : 1\n",
       "          nOutputPlane : 512\n",
       "          padH : 1\n",
       "          kH : 3\n",
       "          weight_offset : 2359296\n",
       "          finput : CudaTensor - empty\n",
       "          biasDesc : cdata<struct cudnnTensorStruct *[1]>: 0x41b5a9d0\n",
       "          input_offset : 100352\n",
       "          weight : CudaTensor - size: 512x512x3x3\n",
       "          train : false\n",
       "          gradWeight : CudaTensor - size: 512x512x3x3\n",
       "          fgradInput : CudaTensor - empty\n",
       "          kW : 3\n",
       "          bias : CudaTensor - size: 512\n",
       "          weightDesc : cdata<struct cudnnFilterStruct *[1]>: 0x40e90ad8\n",
       "        }\n",
       "      30 : \n",
       "       "
      ]
     },
     "execution_count": 2,
     "metadata": {},
     "output_type": "execute_result"
    },
    {
     "data": {
      "text/plain": [
       " cudnn.ReLU\n",
       "        {\n",
       "          inplace : true\n",
       "          mode : CUDNN_ACTIVATION_RELU\n",
       "          train : false\n",
       "          output : CudaTensor - size: 512x14x14\n",
       "          gradInput : CudaTensor - empty\n",
       "          nElem : 100352\n",
       "          iDesc : cdata<struct cudnnTensorStruct *[1]>: 0x41b5c860\n",
       "        }\n",
       "      31 : \n",
       "        dcnn.DualSpatialMaxPooling(2,2,2,2)\n",
       "        {\n",
       "          dH : 2\n",
       "          dW : 2\n",
       "          padH : 0\n",
       "          gradInput : CudaTensor - empty\n",
       "          indices : CudaTensor - size: 512x7x7\n",
       "          dualModule : \n",
       "            dcnn.DualSpatialMaxUnpooling\n",
       "            {\n",
       "              gradInput : CudaTensor - empty\n",
       "              dualModule : \n",
       "                dcnn.DualSpatialMaxPooling(2,2,2,2)\n",
       "                {\n",
       "                  dH : 2\n",
       "                  dW : 2\n",
       "                  padH : 0\n",
       "                  gradInput : CudaTensor - empty\n",
       "                  indices : CudaTensor - size: 512x7x7\n",
       "                  dualModule : dcnn.DualSpatialMaxUnpooling\n",
       "                  kH : 2\n",
       "                  output : CudaTensor - size: 512x7x7\n",
       "                  padW : 0\n",
       "                  kW : 2\n"
      ]
     },
     "execution_count": 2,
     "metadata": {},
     "output_type": "execute_result"
    },
    {
     "data": {
      "text/plain": [
       "                }\n",
       "              output : CudaTensor - size: 512x14x14\n",
       "            }\n",
       "          kH : 2\n",
       "          output : CudaTensor - size: 512x7x7\n",
       "          padW : 0\n",
       "          kW : 2\n",
       "        }\n",
       "      32 : \n",
       "        nn.View\n",
       "        {\n",
       "          train : false\n",
       "          output : CudaTensor - size: 25088\n",
       "          numInputDims : 3\n",
       "          size : LongStorage - size: 1\n",
       "          numElements : 1\n",
       "        }\n",
       "      33 : \n",
       "        nn.Linear(25088 -> 4096)\n",
       "        {\n",
       "          gradBias : CudaTensor - size: 4096\n",
       "          weight : CudaTensor - size: 4096x25088\n",
       "          train : false\n",
       "          bias : CudaTensor - size: 4096\n",
       "          gradInput : CudaTensor - empty\n",
       "          gradWeight : CudaTensor - size: 4096x25088\n",
       "          output : CudaTensor - size: 4096\n",
       "        }\n",
       "      34 : \n",
       "        cudnn.ReLU\n",
       "        {\n",
       "          inplace : true\n",
       "          mode : CUDNN_ACTIVATION_RELU\n",
       "          train : false\n",
       "          output : CudaTensor - size: 4096\n",
       "          gradInput : CudaTensor - empty\n",
       "          nElem : 4096\n",
       "          iDesc : cdata<struct cudnnTensorStruct *[1]>: 0x41771a50\n",
       "        }\n",
       "      35 : \n",
       "        nn.Dropout(0.500000)\n",
       "        {\n",
       "          v2 : true\n",
       "   "
      ]
     },
     "execution_count": 2,
     "metadata": {},
     "output_type": "execute_result"
    },
    {
     "data": {
      "text/plain": [
       "       noise : CudaTensor - empty\n",
       "          train : false\n",
       "          p : 0.5\n",
       "          gradInput : CudaTensor - empty\n",
       "          output : CudaTensor - size: 4096\n",
       "        }\n",
       "      36 : \n",
       "        nn.Linear(4096 -> 4096)\n",
       "        {\n",
       "          gradBias : CudaTensor - size: 4096\n",
       "          weight : CudaTensor - size: 4096x4096\n",
       "          train : false\n",
       "          bias : CudaTensor - size: 4096\n",
       "          gradInput : CudaTensor - empty\n",
       "          gradWeight : CudaTensor - size: 4096x4096\n",
       "          output : CudaTensor - size: 4096\n",
       "        }\n",
       "      37 : \n",
       "        cudnn.ReLU\n",
       "        {\n",
       "          inplace : true\n",
       "          mode : CUDNN_ACTIVATION_RELU\n",
       "          train : false\n",
       "          output : CudaTensor - size: 4096\n",
       "          gradInput : CudaTensor - empty\n",
       "          nElem : 4096\n",
       "          iDesc : cdata<struct cudnnTensorStruct *[1]>: 0x41fee648\n",
       "        }\n",
       "      38 : \n",
       "        nn.Dropout(0.500000)\n",
       "        {\n",
       "          v2 : true\n",
       "          noise : CudaTensor - empty\n",
       "          train : false\n",
       "          p : 0.5\n",
       "          gradInput : CudaTensor - empty\n",
       "          output : CudaTensor - size: 4096\n",
       "        }\n",
       "      39 : \n",
       "        nn.Linear(4096 -> 1000)\n",
       "        {\n",
       "          gradBias : CudaTensor - size: 1000\n",
       "          weight : CudaTensor - size: 1000x4096\n",
       "          train : false\n"
      ]
     },
     "execution_count": 2,
     "metadata": {},
     "output_type": "execute_result"
    },
    {
     "data": {
      "text/plain": [
       "          bias : CudaTensor - size: 1000\n",
       "          gradInput : CudaTensor - empty\n",
       "          gradWeight : CudaTensor - size: 1000x4096\n",
       "          output : CudaTensor - size: 1000\n",
       "        }\n",
       "      40 : \n",
       "        nn.SoftMax\n",
       "        {\n",
       "          gradInput : CudaTensor - empty\n",
       "          train : false\n",
       "          output : CudaTensor - size: 1000\n",
       "        }\n",
       "    }\n",
       "  train : false\n",
       "  output : CudaTensor - size: 1000\n",
       "}\n"
      ]
     },
     "execution_count": 2,
     "metadata": {},
     "output_type": "execute_result"
    }
   ],
   "source": [
    "net"
   ]
  },
  {
   "cell_type": "code",
   "execution_count": 2,
   "metadata": {
    "collapsed": false
   },
   "outputs": [
    {
     "data": {
      "image/png": "[encoded data removed]",
      "text/plain": [
       "Console does not support images"
      ]
     },
     "metadata": {
      "image/png": {
       "height": 14,
       "width": 14
      }
     },
     "output_type": "display_data"
    },
    {
     "data": {
      "text/plain": [
       "\n"
      ]
     },
     "execution_count": 2,
     "metadata": {},
     "output_type": "execute_result"
    }
   ],
   "source": [
    "itorch.image( net:get(29).output[330] )"
   ]
  },
  {
   "cell_type": "code",
   "execution_count": 2,
   "metadata": {
    "collapsed": false
   },
   "outputs": [
    {
     "data": {
      "text/plain": [
       "cudnn.SpatialConvolution(512 -> 512, 3x3, 1,1, 1,1)\t\n",
       "deconv layer has been built !\t\n"
      ]
     },
     "execution_count": 2,
     "metadata": {},
     "output_type": "execute_result"
    },
    {
     "data": {
      "text/plain": [
       "cudnn.SpatialConvolution(512 -> 512, 3x3, 1,1, 1,1)\t\n",
       "deconv layer has been built !\t\n"
      ]
     },
     "execution_count": 2,
     "metadata": {},
     "output_type": "execute_result"
    },
    {
     "data": {
      "text/plain": [
       "cudnn.SpatialConvolution(512 -> 512, 3x3, 1,1, 1,1)\t\n",
       "deconv layer has been built !\t\n"
      ]
     },
     "execution_count": 2,
     "metadata": {},
     "output_type": "execute_result"
    },
    {
     "data": {
      "text/plain": [
       "cudnn.SpatialConvolution(512 -> 512, 3x3, 1,1, 1,1)\t\n",
       "deconv layer has been built !\t\n"
      ]
     },
     "execution_count": 2,
     "metadata": {},
     "output_type": "execute_result"
    },
    {
     "data": {
      "text/plain": [
       "cudnn.SpatialConvolution(512 -> 512, 3x3, 1,1, 1,1)\t\n",
       "deconv layer has been built !\t\n"
      ]
     },
     "execution_count": 2,
     "metadata": {},
     "output_type": "execute_result"
    },
    {
     "data": {
      "text/plain": [
       "cudnn.SpatialConvolution(256 -> 512, 3x3, 1,1, 1,1)\t\n",
       "deconv layer has been built !\t\n"
      ]
     },
     "execution_count": 2,
     "metadata": {},
     "output_type": "execute_result"
    },
    {
     "data": {
      "text/plain": [
       "cudnn.SpatialConvolution(256 -> 256, 3x3, 1,1, 1,1)\t\n",
       "deconv layer has been built !\t\n"
      ]
     },
     "execution_count": 2,
     "metadata": {},
     "output_type": "execute_result"
    },
    {
     "data": {
      "text/plain": [
       "cudnn.SpatialConvolution(256 -> 256, 3x3, 1,1, 1,1)\t\n",
       "deconv layer has been built !\t\n"
      ]
     },
     "execution_count": 2,
     "metadata": {},
     "output_type": "execute_result"
    },
    {
     "data": {
      "text/plain": [
       "cudnn.SpatialConvolution(128 -> 256, 3x3, 1,1, 1,1)\t\n",
       "deconv layer has been built !\t\n"
      ]
     },
     "execution_count": 2,
     "metadata": {},
     "output_type": "execute_result"
    },
    {
     "data": {
      "text/plain": [
       "cudnn.SpatialConvolution(128 -> 128, 3x3, 1,1, 1,1)\t\n",
       "deconv layer has been built !\t\n"
      ]
     },
     "execution_count": 2,
     "metadata": {},
     "output_type": "execute_result"
    },
    {
     "data": {
      "text/plain": [
       "cudnn.SpatialConvolution(64 -> 128, 3x3, 1,1, 1,1)\t\n",
       "deconv layer has been built !\t\n"
      ]
     },
     "execution_count": 2,
     "metadata": {},
     "output_type": "execute_result"
    },
    {
     "data": {
      "text/plain": [
       "cudnn.SpatialConvolution(64 -> 64, 3x3, 1,1, 1,1)\t\n",
       "deconv layer has been built !\t\n"
      ]
     },
     "execution_count": 2,
     "metadata": {},
     "output_type": "execute_result"
    },
    {
     "data": {
      "text/plain": [
       "cudnn.SpatialConvolution(3 -> 64, 3x3, 1,1, 1,1)\t\n",
       "deconv layer has been built !\t\n"
      ]
     },
     "execution_count": 2,
     "metadata": {},
     "output_type": "execute_result"
    }
   ],
   "source": [
    "deconvNet_VGG = dcnn:CreateDeconvNet( net, unpooling_layers, I, 29, 330 )"
   ]
  },
  {
   "cell_type": "code",
   "execution_count": 4,
   "metadata": {
    "collapsed": false
   },
   "outputs": [
    {
     "data": {
      "text/plain": [
       "==> Time elapsed: 0.14227294921875 seconds\t\n"
      ]
     },
     "execution_count": 4,
     "metadata": {},
     "output_type": "execute_result"
    },
    {
     "data": {
      "image/png": "[encoded data removed]",
      "text/plain": [
       "Console does not support images"
      ]
     },
     "metadata": {
      "image/png": {
       "height": 224,
       "width": 224
      }
     },
     "output_type": "display_data"
    }
   ],
   "source": [
    "deconv_timer = torch.Timer()\n",
    "vis_c13= deconvNet_VGG:forward(net:get(29).output)\n",
    "\n",
    "print('==> Time elapsed: ' .. deconv_timer:time().real .. ' seconds')\n",
    "itorch.image(vis_c13)"
   ]
  },
  {
   "cell_type": "code",
   "execution_count": null,
   "metadata": {
    "collapsed": true
   },
   "outputs": [],
   "source": []
  }
 ],
 "metadata": {
  "kernelspec": {
   "display_name": "iTorch",
   "language": "lua",
   "name": "itorch"
  },
  "language_info": {
   "name": "lua",
   "version": "20100"
  }
 },
 "nbformat": 4,
 "nbformat_minor": 0
}
